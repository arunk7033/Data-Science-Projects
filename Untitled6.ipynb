{
  "nbformat": 4,
  "nbformat_minor": 0,
  "metadata": {
    "colab": {
      "provenance": []
    },
    "kernelspec": {
      "name": "python3",
      "display_name": "Python 3"
    },
    "language_info": {
      "name": "python"
    }
  },
  "cells": [
    {
      "cell_type": "code",
      "execution_count": 1,
      "metadata": {
        "id": "tWfKiatjMN68"
      },
      "outputs": [],
      "source": [
        "import pandas_datareader as pdr"
      ]
    },
    {
      "cell_type": "code",
      "source": [
        "df = pdr.get_data_tiingo('AAPL', api_key=\"a09ade04bfec99c21da6e262f24fdce80d0b3c6e\")"
      ],
      "metadata": {
        "colab": {
          "base_uri": "https://localhost:8080/"
        },
        "id": "FMxi7ElbMXYe",
        "outputId": "4d5aaf2c-1768-426d-b3b0-c30c726b0f70"
      },
      "execution_count": 2,
      "outputs": [
        {
          "output_type": "stream",
          "name": "stderr",
          "text": [
            "<ipython-input-2-d8274b9e2609>:1: FutureWarning: In a future version of pandas all arguments of concat except for the argument 'objs' will be keyword-only.\n",
            "  df = pdr.get_data_tiingo('AAPL', api_key=\"a09ade04bfec99c21da6e262f24fdce80d0b3c6e\")\n"
          ]
        }
      ]
    },
    {
      "cell_type": "code",
      "source": [
        "df.to_csv('AAPL.csv')"
      ],
      "metadata": {
        "id": "hBneP3vVMfYk"
      },
      "execution_count": 3,
      "outputs": []
    },
    {
      "cell_type": "code",
      "source": [
        "df.head()"
      ],
      "metadata": {
        "colab": {
          "base_uri": "https://localhost:8080/",
          "height": 238
        },
        "id": "CvK3k82jMlGM",
        "outputId": "228f10d1-1b66-4594-e548-db67e7d3380b"
      },
      "execution_count": 4,
      "outputs": [
        {
          "output_type": "execute_result",
          "data": {
            "text/plain": [
              "                                   close    high     low    open    volume  \\\n",
              "symbol date                                                                  \n",
              "AAPL   2018-04-23 00:00:00+00:00  165.24  166.92  164.09  166.83  36515477   \n",
              "       2018-04-24 00:00:00+00:00  162.94  166.33  161.22  165.67  33692017   \n",
              "       2018-04-25 00:00:00+00:00  163.65  165.42  162.41  162.62  28382084   \n",
              "       2018-04-26 00:00:00+00:00  164.22  165.73  163.37  164.12  27963014   \n",
              "       2018-04-27 00:00:00+00:00  162.32  164.33  160.63  164.00  35655839   \n",
              "\n",
              "                                   adjClose    adjHigh     adjLow    adjOpen  \\\n",
              "symbol date                                                                    \n",
              "AAPL   2018-04-23 00:00:00+00:00  39.378094  39.778453  39.104040  39.757005   \n",
              "       2018-04-24 00:00:00+00:00  38.829985  39.637851  38.420094  39.480567   \n",
              "       2018-04-25 00:00:00+00:00  38.999184  39.420990  38.703681  38.753726   \n",
              "       2018-04-26 00:00:00+00:00  39.135020  39.494865  38.932457  39.111189   \n",
              "       2018-04-27 00:00:00+00:00  38.682234  39.161234  38.279492  39.082592   \n",
              "\n",
              "                                  adjVolume  divCash  splitFactor  \n",
              "symbol date                                                        \n",
              "AAPL   2018-04-23 00:00:00+00:00  146061908      0.0          1.0  \n",
              "       2018-04-24 00:00:00+00:00  134768068      0.0          1.0  \n",
              "       2018-04-25 00:00:00+00:00  113528336      0.0          1.0  \n",
              "       2018-04-26 00:00:00+00:00  111852056      0.0          1.0  \n",
              "       2018-04-27 00:00:00+00:00  142623356      0.0          1.0  "
            ],
            "text/html": [
              "\n",
              "  <div id=\"df-70dd119a-1c4e-4e67-8f6a-afabeaaa555c\">\n",
              "    <div class=\"colab-df-container\">\n",
              "      <div>\n",
              "<style scoped>\n",
              "    .dataframe tbody tr th:only-of-type {\n",
              "        vertical-align: middle;\n",
              "    }\n",
              "\n",
              "    .dataframe tbody tr th {\n",
              "        vertical-align: top;\n",
              "    }\n",
              "\n",
              "    .dataframe thead th {\n",
              "        text-align: right;\n",
              "    }\n",
              "</style>\n",
              "<table border=\"1\" class=\"dataframe\">\n",
              "  <thead>\n",
              "    <tr style=\"text-align: right;\">\n",
              "      <th></th>\n",
              "      <th></th>\n",
              "      <th>close</th>\n",
              "      <th>high</th>\n",
              "      <th>low</th>\n",
              "      <th>open</th>\n",
              "      <th>volume</th>\n",
              "      <th>adjClose</th>\n",
              "      <th>adjHigh</th>\n",
              "      <th>adjLow</th>\n",
              "      <th>adjOpen</th>\n",
              "      <th>adjVolume</th>\n",
              "      <th>divCash</th>\n",
              "      <th>splitFactor</th>\n",
              "    </tr>\n",
              "    <tr>\n",
              "      <th>symbol</th>\n",
              "      <th>date</th>\n",
              "      <th></th>\n",
              "      <th></th>\n",
              "      <th></th>\n",
              "      <th></th>\n",
              "      <th></th>\n",
              "      <th></th>\n",
              "      <th></th>\n",
              "      <th></th>\n",
              "      <th></th>\n",
              "      <th></th>\n",
              "      <th></th>\n",
              "      <th></th>\n",
              "    </tr>\n",
              "  </thead>\n",
              "  <tbody>\n",
              "    <tr>\n",
              "      <th rowspan=\"5\" valign=\"top\">AAPL</th>\n",
              "      <th>2018-04-23 00:00:00+00:00</th>\n",
              "      <td>165.24</td>\n",
              "      <td>166.92</td>\n",
              "      <td>164.09</td>\n",
              "      <td>166.83</td>\n",
              "      <td>36515477</td>\n",
              "      <td>39.378094</td>\n",
              "      <td>39.778453</td>\n",
              "      <td>39.104040</td>\n",
              "      <td>39.757005</td>\n",
              "      <td>146061908</td>\n",
              "      <td>0.0</td>\n",
              "      <td>1.0</td>\n",
              "    </tr>\n",
              "    <tr>\n",
              "      <th>2018-04-24 00:00:00+00:00</th>\n",
              "      <td>162.94</td>\n",
              "      <td>166.33</td>\n",
              "      <td>161.22</td>\n",
              "      <td>165.67</td>\n",
              "      <td>33692017</td>\n",
              "      <td>38.829985</td>\n",
              "      <td>39.637851</td>\n",
              "      <td>38.420094</td>\n",
              "      <td>39.480567</td>\n",
              "      <td>134768068</td>\n",
              "      <td>0.0</td>\n",
              "      <td>1.0</td>\n",
              "    </tr>\n",
              "    <tr>\n",
              "      <th>2018-04-25 00:00:00+00:00</th>\n",
              "      <td>163.65</td>\n",
              "      <td>165.42</td>\n",
              "      <td>162.41</td>\n",
              "      <td>162.62</td>\n",
              "      <td>28382084</td>\n",
              "      <td>38.999184</td>\n",
              "      <td>39.420990</td>\n",
              "      <td>38.703681</td>\n",
              "      <td>38.753726</td>\n",
              "      <td>113528336</td>\n",
              "      <td>0.0</td>\n",
              "      <td>1.0</td>\n",
              "    </tr>\n",
              "    <tr>\n",
              "      <th>2018-04-26 00:00:00+00:00</th>\n",
              "      <td>164.22</td>\n",
              "      <td>165.73</td>\n",
              "      <td>163.37</td>\n",
              "      <td>164.12</td>\n",
              "      <td>27963014</td>\n",
              "      <td>39.135020</td>\n",
              "      <td>39.494865</td>\n",
              "      <td>38.932457</td>\n",
              "      <td>39.111189</td>\n",
              "      <td>111852056</td>\n",
              "      <td>0.0</td>\n",
              "      <td>1.0</td>\n",
              "    </tr>\n",
              "    <tr>\n",
              "      <th>2018-04-27 00:00:00+00:00</th>\n",
              "      <td>162.32</td>\n",
              "      <td>164.33</td>\n",
              "      <td>160.63</td>\n",
              "      <td>164.00</td>\n",
              "      <td>35655839</td>\n",
              "      <td>38.682234</td>\n",
              "      <td>39.161234</td>\n",
              "      <td>38.279492</td>\n",
              "      <td>39.082592</td>\n",
              "      <td>142623356</td>\n",
              "      <td>0.0</td>\n",
              "      <td>1.0</td>\n",
              "    </tr>\n",
              "  </tbody>\n",
              "</table>\n",
              "</div>\n",
              "      <button class=\"colab-df-convert\" onclick=\"convertToInteractive('df-70dd119a-1c4e-4e67-8f6a-afabeaaa555c')\"\n",
              "              title=\"Convert this dataframe to an interactive table.\"\n",
              "              style=\"display:none;\">\n",
              "        \n",
              "  <svg xmlns=\"http://www.w3.org/2000/svg\" height=\"24px\"viewBox=\"0 0 24 24\"\n",
              "       width=\"24px\">\n",
              "    <path d=\"M0 0h24v24H0V0z\" fill=\"none\"/>\n",
              "    <path d=\"M18.56 5.44l.94 2.06.94-2.06 2.06-.94-2.06-.94-.94-2.06-.94 2.06-2.06.94zm-11 1L8.5 8.5l.94-2.06 2.06-.94-2.06-.94L8.5 2.5l-.94 2.06-2.06.94zm10 10l.94 2.06.94-2.06 2.06-.94-2.06-.94-.94-2.06-.94 2.06-2.06.94z\"/><path d=\"M17.41 7.96l-1.37-1.37c-.4-.4-.92-.59-1.43-.59-.52 0-1.04.2-1.43.59L10.3 9.45l-7.72 7.72c-.78.78-.78 2.05 0 2.83L4 21.41c.39.39.9.59 1.41.59.51 0 1.02-.2 1.41-.59l7.78-7.78 2.81-2.81c.8-.78.8-2.07 0-2.86zM5.41 20L4 18.59l7.72-7.72 1.47 1.35L5.41 20z\"/>\n",
              "  </svg>\n",
              "      </button>\n",
              "      \n",
              "  <style>\n",
              "    .colab-df-container {\n",
              "      display:flex;\n",
              "      flex-wrap:wrap;\n",
              "      gap: 12px;\n",
              "    }\n",
              "\n",
              "    .colab-df-convert {\n",
              "      background-color: #E8F0FE;\n",
              "      border: none;\n",
              "      border-radius: 50%;\n",
              "      cursor: pointer;\n",
              "      display: none;\n",
              "      fill: #1967D2;\n",
              "      height: 32px;\n",
              "      padding: 0 0 0 0;\n",
              "      width: 32px;\n",
              "    }\n",
              "\n",
              "    .colab-df-convert:hover {\n",
              "      background-color: #E2EBFA;\n",
              "      box-shadow: 0px 1px 2px rgba(60, 64, 67, 0.3), 0px 1px 3px 1px rgba(60, 64, 67, 0.15);\n",
              "      fill: #174EA6;\n",
              "    }\n",
              "\n",
              "    [theme=dark] .colab-df-convert {\n",
              "      background-color: #3B4455;\n",
              "      fill: #D2E3FC;\n",
              "    }\n",
              "\n",
              "    [theme=dark] .colab-df-convert:hover {\n",
              "      background-color: #434B5C;\n",
              "      box-shadow: 0px 1px 3px 1px rgba(0, 0, 0, 0.15);\n",
              "      filter: drop-shadow(0px 1px 2px rgba(0, 0, 0, 0.3));\n",
              "      fill: #FFFFFF;\n",
              "    }\n",
              "  </style>\n",
              "\n",
              "      <script>\n",
              "        const buttonEl =\n",
              "          document.querySelector('#df-70dd119a-1c4e-4e67-8f6a-afabeaaa555c button.colab-df-convert');\n",
              "        buttonEl.style.display =\n",
              "          google.colab.kernel.accessAllowed ? 'block' : 'none';\n",
              "\n",
              "        async function convertToInteractive(key) {\n",
              "          const element = document.querySelector('#df-70dd119a-1c4e-4e67-8f6a-afabeaaa555c');\n",
              "          const dataTable =\n",
              "            await google.colab.kernel.invokeFunction('convertToInteractive',\n",
              "                                                     [key], {});\n",
              "          if (!dataTable) return;\n",
              "\n",
              "          const docLinkHtml = 'Like what you see? Visit the ' +\n",
              "            '<a target=\"_blank\" href=https://colab.research.google.com/notebooks/data_table.ipynb>data table notebook</a>'\n",
              "            + ' to learn more about interactive tables.';\n",
              "          element.innerHTML = '';\n",
              "          dataTable['output_type'] = 'display_data';\n",
              "          await google.colab.output.renderOutput(dataTable, element);\n",
              "          const docLink = document.createElement('div');\n",
              "          docLink.innerHTML = docLinkHtml;\n",
              "          element.appendChild(docLink);\n",
              "        }\n",
              "      </script>\n",
              "    </div>\n",
              "  </div>\n",
              "  "
            ]
          },
          "metadata": {},
          "execution_count": 4
        }
      ]
    },
    {
      "cell_type": "code",
      "source": [
        "df1=df.reset_index()['close']"
      ],
      "metadata": {
        "id": "naQN6ORDMm8V"
      },
      "execution_count": 5,
      "outputs": []
    },
    {
      "cell_type": "code",
      "source": [
        "import matplotlib.pyplot as plt\n",
        "plt.plot(df1)"
      ],
      "metadata": {
        "colab": {
          "base_uri": "https://localhost:8080/",
          "height": 447
        },
        "id": "FLk88ZwNMrxt",
        "outputId": "20e122db-a71f-4598-c6f3-338a672cd54f"
      },
      "execution_count": 6,
      "outputs": [
        {
          "output_type": "execute_result",
          "data": {
            "text/plain": [
              "[<matplotlib.lines.Line2D at 0x7f06bdcfa850>]"
            ]
          },
          "metadata": {},
          "execution_count": 6
        },
        {
          "output_type": "display_data",
          "data": {
            "text/plain": [
              "<Figure size 640x480 with 1 Axes>"
            ],
            "image/png": "[encoded data removed]"
          },
          "metadata": {}
        }
      ]
    },
    {
      "cell_type": "code",
      "source": [
        "import numpy as np"
      ],
      "metadata": {
        "id": "oeiW-_lfMwKN"
      },
      "execution_count": 7,
      "outputs": []
    },
    {
      "cell_type": "code",
      "source": [
        "from sklearn.preprocessing import MinMaxScaler\n",
        "scaler=MinMaxScaler(feature_range=(0,1))\n",
        "df1=scaler.fit_transform(np.array(df1).reshape(-1,1))"
      ],
      "metadata": {
        "id": "lx0ijzEVM1_G"
      },
      "execution_count": 8,
      "outputs": []
    },
    {
      "cell_type": "code",
      "source": [
        "##splitting dataset into train and test split\n",
        "training_size=int(len(df1)*0.65)\n",
        "test_size=len(df1)-training_size\n",
        "train_data,test_data=df1[0:training_size,:],df1[training_size:len(df1),:1]"
      ],
      "metadata": {
        "id": "pVHzdYw_M52V"
      },
      "execution_count": 9,
      "outputs": []
    },
    {
      "cell_type": "code",
      "source": [
        "training_size,test_size"
      ],
      "metadata": {
        "colab": {
          "base_uri": "https://localhost:8080/"
        },
        "id": "Ugq0vz0qNBjl",
        "outputId": "06932cb2-24ac-4da5-b8c0-d5a425cd5b1b"
      },
      "execution_count": 10,
      "outputs": [
        {
          "output_type": "execute_result",
          "data": {
            "text/plain": [
              "(818, 441)"
            ]
          },
          "metadata": {},
          "execution_count": 10
        }
      ]
    },
    {
      "cell_type": "code",
      "source": [
        "import numpy\n",
        "# convert an array of values into a dataset matrix\n",
        "def create_dataset(dataset, time_step=1):\n",
        "\tdataX, dataY = [], []\n",
        "\tfor i in range(len(dataset)-time_step-1):\n",
        "\t\ta = dataset[i:(i+time_step), 0]   ###i=0, 0,1,2,3-----99   100 \n",
        "\t\tdataX.append(a)\n",
        "\t\tdataY.append(dataset[i + time_step, 0])\n",
        "\treturn numpy.array(dataX), numpy.array(dataY)"
      ],
      "metadata": {
        "id": "3JZ6kxerNDIF"
      },
      "execution_count": 11,
      "outputs": []
    },
    {
      "cell_type": "code",
      "source": [
        "# reshape into X=t,t+1,t+2,t+3 and Y=t+4\n",
        "time_step = 100\n",
        "X_train, y_train = create_dataset(train_data, time_step)\n",
        "X_test, ytest = create_dataset(test_data, time_step)"
      ],
      "metadata": {
        "id": "yKlQxnz6NHDU"
      },
      "execution_count": 12,
      "outputs": []
    },
    {
      "cell_type": "code",
      "source": [
        "print(X_train.shape), print(y_train.shape)"
      ],
      "metadata": {
        "colab": {
          "base_uri": "https://localhost:8080/"
        },
        "id": "YiG0ZmNjNLOV",
        "outputId": "2ecc5cff-3fbd-4d70-bb8d-4fc1b03d2c6c"
      },
      "execution_count": 13,
      "outputs": [
        {
          "output_type": "stream",
          "name": "stdout",
          "text": [
            "(717, 100)\n",
            "(717,)\n"
          ]
        },
        {
          "output_type": "execute_result",
          "data": {
            "text/plain": [
              "(None, None)"
            ]
          },
          "metadata": {},
          "execution_count": 13
        }
      ]
    },
    {
      "cell_type": "code",
      "source": [
        "print(X_test.shape), print(ytest.shape)"
      ],
      "metadata": {
        "colab": {
          "base_uri": "https://localhost:8080/"
        },
        "id": "HbmUB-0JNUal",
        "outputId": "a0962dbc-ad38-4660-891b-5caa822656e2"
      },
      "execution_count": 14,
      "outputs": [
        {
          "output_type": "stream",
          "name": "stdout",
          "text": [
            "(340, 100)\n",
            "(340,)\n"
          ]
        },
        {
          "output_type": "execute_result",
          "data": {
            "text/plain": [
              "(None, None)"
            ]
          },
          "metadata": {},
          "execution_count": 14
        }
      ]
    },
    {
      "cell_type": "code",
      "source": [
        "# reshape input to be [samples, time steps, features] which is required for LSTM\n",
        "X_train =X_train.reshape(X_train.shape[0],X_train.shape[1] , 1)\n",
        "X_test = X_test.reshape(X_test.shape[0],X_test.shape[1] , 1)"
      ],
      "metadata": {
        "id": "CBplOGsMNY2t"
      },
      "execution_count": 15,
      "outputs": []
    },
    {
      "cell_type": "code",
      "source": [
        "### Create the Stacked LSTM model\n",
        "from tensorflow.keras.models import Sequential\n",
        "from tensorflow.keras.layers import Dense\n",
        "from tensorflow.keras.layers import LSTM"
      ],
      "metadata": {
        "id": "w-J_ZLXWNdSV"
      },
      "execution_count": 16,
      "outputs": []
    },
    {
      "cell_type": "code",
      "source": [
        "model=Sequential()\n",
        "model.add(LSTM(50,return_sequences=True,input_shape=(100,1)))\n",
        "model.add(LSTM(50,return_sequences=True))\n",
        "model.add(LSTM(50))\n",
        "model.add(Dense(1))\n",
        "model.compile(loss='mean_squared_error',optimizer='adam')"
      ],
      "metadata": {
        "id": "buecZYDONj-d"
      },
      "execution_count": 17,
      "outputs": []
    },
    {
      "cell_type": "code",
      "source": [
        "model.summary()"
      ],
      "metadata": {
        "colab": {
          "base_uri": "https://localhost:8080/"
        },
        "id": "vL6PxWi_NqRO",
        "outputId": "833466c5-d7a1-454d-d7f0-d61ecb948e9c"
      },
      "execution_count": 18,
      "outputs": [
        {
          "output_type": "stream",
          "name": "stdout",
          "text": [
            "Model: \"sequential\"\n",
            "_________________________________________________________________\n",
            " Layer (type)                Output Shape              Param #   \n",
            "=================================================================\n",
            " lstm (LSTM)                 (None, 100, 50)           10400     \n",
            "                                                                 \n",
            " lstm_1 (LSTM)               (None, 100, 50)           20200     \n",
            "                                                                 \n",
            " lstm_2 (LSTM)               (None, 50)                20200     \n",
            "                                                                 \n",
            " dense (Dense)               (None, 1)                 51        \n",
            "                                                                 \n",
            "=================================================================\n",
            "Total params: 50,851\n",
            "Trainable params: 50,851\n",
            "Non-trainable params: 0\n",
            "_________________________________________________________________\n"
          ]
        }
      ]
    },
    {
      "cell_type": "code",
      "source": [
        "model.fit(X_train,y_train,validation_data=(X_test,ytest),epochs=100,batch_size=64,verbose=1)"
      ],
      "metadata": {
        "colab": {
          "base_uri": "https://localhost:8080/"
        },
        "id": "6UQUSV4_OJON",
        "outputId": "b0034778-a3c2-476b-c8b9-7d049ca2d2ea"
      },
      "execution_count": 19,
      "outputs": [
        {
          "output_type": "stream",
          "name": "stdout",
          "text": [
            "Epoch 1/100\n",
            "12/12 [==============================] - 10s 381ms/step - loss: 0.0449 - val_loss: 0.0028\n",
            "Epoch 2/100\n",
            "12/12 [==============================] - 2s 188ms/step - loss: 0.0159 - val_loss: 0.0044\n",
            "Epoch 3/100\n",
            "12/12 [==============================] - 2s 187ms/step - loss: 0.0117 - val_loss: 7.2471e-04\n",
            "Epoch 4/100\n",
            "12/12 [==============================] - 2s 188ms/step - loss: 0.0095 - val_loss: 0.0013\n",
            "Epoch 5/100\n",
            "12/12 [==============================] - 2s 187ms/step - loss: 0.0083 - val_loss: 3.7615e-04\n",
            "Epoch 6/100\n",
            "12/12 [==============================] - 3s 269ms/step - loss: 0.0071 - val_loss: 4.6581e-04\n",
            "Epoch 7/100\n",
            "12/12 [==============================] - 2s 192ms/step - loss: 0.0070 - val_loss: 0.0014\n",
            "Epoch 8/100\n",
            "12/12 [==============================] - 2s 188ms/step - loss: 0.0059 - val_loss: 2.9219e-04\n",
            "Epoch 9/100\n",
            "12/12 [==============================] - 2s 187ms/step - loss: 0.0055 - val_loss: 9.2339e-04\n",
            "Epoch 10/100\n",
            "12/12 [==============================] - 2s 186ms/step - loss: 0.0049 - val_loss: 3.5949e-04\n",
            "Epoch 11/100\n",
            "12/12 [==============================] - 3s 237ms/step - loss: 0.0047 - val_loss: 6.2134e-04\n",
            "Epoch 12/100\n",
            "12/12 [==============================] - 3s 220ms/step - loss: 0.0042 - val_loss: 3.5281e-04\n",
            "Epoch 13/100\n",
            "12/12 [==============================] - 2s 188ms/step - loss: 0.0036 - val_loss: 2.9041e-04\n",
            "Epoch 14/100\n",
            "12/12 [==============================] - 2s 189ms/step - loss: 0.0039 - val_loss: 4.9325e-04\n",
            "Epoch 15/100\n",
            "12/12 [==============================] - 2s 188ms/step - loss: 0.0034 - val_loss: 3.0301e-04\n",
            "Epoch 16/100\n",
            "12/12 [==============================] - 3s 213ms/step - loss: 0.0034 - val_loss: 3.0733e-04\n",
            "Epoch 17/100\n",
            "12/12 [==============================] - 3s 248ms/step - loss: 0.0034 - val_loss: 3.8753e-04\n",
            "Epoch 18/100\n",
            "12/12 [==============================] - 2s 189ms/step - loss: 0.0030 - val_loss: 2.8328e-04\n",
            "Epoch 19/100\n",
            "12/12 [==============================] - 2s 190ms/step - loss: 0.0028 - val_loss: 3.1685e-04\n",
            "Epoch 20/100\n",
            "12/12 [==============================] - 2s 191ms/step - loss: 0.0025 - val_loss: 3.0502e-04\n",
            "Epoch 21/100\n",
            "12/12 [==============================] - 2s 198ms/step - loss: 0.0023 - val_loss: 3.5849e-04\n",
            "Epoch 22/100\n",
            "12/12 [==============================] - 3s 267ms/step - loss: 0.0027 - val_loss: 2.5808e-04\n",
            "Epoch 23/100\n",
            "12/12 [==============================] - 2s 189ms/step - loss: 0.0020 - val_loss: 2.5081e-04\n",
            "Epoch 24/100\n",
            "12/12 [==============================] - 2s 190ms/step - loss: 0.0020 - val_loss: 2.6494e-04\n",
            "Epoch 25/100\n",
            "12/12 [==============================] - 2s 188ms/step - loss: 0.0027 - val_loss: 3.6434e-04\n",
            "Epoch 26/100\n",
            "12/12 [==============================] - 2s 190ms/step - loss: 0.0029 - val_loss: 4.3273e-04\n",
            "Epoch 27/100\n",
            "12/12 [==============================] - 3s 288ms/step - loss: 0.0029 - val_loss: 3.1722e-04\n",
            "Epoch 28/100\n",
            "12/12 [==============================] - 2s 189ms/step - loss: 0.0026 - val_loss: 2.9108e-04\n",
            "Epoch 29/100\n",
            "12/12 [==============================] - 2s 189ms/step - loss: 0.0025 - val_loss: 2.5919e-04\n",
            "Epoch 30/100\n",
            "12/12 [==============================] - 2s 190ms/step - loss: 0.0022 - val_loss: 2.4839e-04\n",
            "Epoch 31/100\n",
            "12/12 [==============================] - 2s 191ms/step - loss: 0.0020 - val_loss: 2.4717e-04\n",
            "Epoch 32/100\n",
            "12/12 [==============================] - 3s 292ms/step - loss: 0.0019 - val_loss: 2.9411e-04\n",
            "Epoch 33/100\n",
            "12/12 [==============================] - 2s 190ms/step - loss: 0.0020 - val_loss: 2.7676e-04\n",
            "Epoch 34/100\n",
            "12/12 [==============================] - 2s 192ms/step - loss: 0.0020 - val_loss: 2.6295e-04\n",
            "Epoch 35/100\n",
            "12/12 [==============================] - 2s 194ms/step - loss: 0.0023 - val_loss: 2.6394e-04\n",
            "Epoch 36/100\n",
            "12/12 [==============================] - 2s 190ms/step - loss: 0.0041 - val_loss: 2.3497e-04\n",
            "Epoch 37/100\n",
            "12/12 [==============================] - 3s 289ms/step - loss: 0.0037 - val_loss: 5.1425e-04\n",
            "Epoch 38/100\n",
            "12/12 [==============================] - 2s 191ms/step - loss: 0.0027 - val_loss: 2.8258e-04\n",
            "Epoch 39/100\n",
            "12/12 [==============================] - 2s 187ms/step - loss: 0.0019 - val_loss: 2.5327e-04\n",
            "Epoch 40/100\n",
            "12/12 [==============================] - 2s 188ms/step - loss: 0.0021 - val_loss: 3.1013e-04\n",
            "Epoch 41/100\n",
            "12/12 [==============================] - 2s 189ms/step - loss: 0.0021 - val_loss: 2.6238e-04\n",
            "Epoch 42/100\n",
            "12/12 [==============================] - 3s 257ms/step - loss: 0.0021 - val_loss: 2.5817e-04\n",
            "Epoch 43/100\n",
            "12/12 [==============================] - 3s 202ms/step - loss: 0.0018 - val_loss: 2.6833e-04\n",
            "Epoch 44/100\n",
            "12/12 [==============================] - 2s 189ms/step - loss: 0.0017 - val_loss: 2.5387e-04\n",
            "Epoch 45/100\n",
            "12/12 [==============================] - 3s 219ms/step - loss: 0.0014 - val_loss: 2.6010e-04\n",
            "Epoch 46/100\n",
            "12/12 [==============================] - 2s 190ms/step - loss: 0.0018 - val_loss: 2.4657e-04\n",
            "Epoch 47/100\n",
            "12/12 [==============================] - 3s 263ms/step - loss: 0.0015 - val_loss: 2.5994e-04\n",
            "Epoch 48/100\n",
            "12/12 [==============================] - 3s 203ms/step - loss: 0.0013 - val_loss: 2.5282e-04\n",
            "Epoch 49/100\n",
            "12/12 [==============================] - 2s 191ms/step - loss: 0.0014 - val_loss: 2.4844e-04\n",
            "Epoch 50/100\n",
            "12/12 [==============================] - 2s 188ms/step - loss: 0.0013 - val_loss: 2.5491e-04\n",
            "Epoch 51/100\n",
            "12/12 [==============================] - 2s 189ms/step - loss: 0.0015 - val_loss: 2.4479e-04\n",
            "Epoch 52/100\n",
            "12/12 [==============================] - 3s 240ms/step - loss: 0.0019 - val_loss: 4.4240e-04\n",
            "Epoch 53/100\n",
            "12/12 [==============================] - 3s 224ms/step - loss: 0.0022 - val_loss: 2.4331e-04\n",
            "Epoch 54/100\n",
            "12/12 [==============================] - 2s 188ms/step - loss: 0.0015 - val_loss: 4.7338e-04\n",
            "Epoch 55/100\n",
            "12/12 [==============================] - 2s 189ms/step - loss: 0.0016 - val_loss: 3.1069e-04\n",
            "Epoch 56/100\n",
            "12/12 [==============================] - 2s 189ms/step - loss: 0.0014 - val_loss: 2.7917e-04\n",
            "Epoch 57/100\n",
            "12/12 [==============================] - 3s 214ms/step - loss: 0.0013 - val_loss: 2.4769e-04\n",
            "Epoch 58/100\n",
            "12/12 [==============================] - 3s 249ms/step - loss: 0.0012 - val_loss: 3.4099e-04\n",
            "Epoch 59/100\n",
            "12/12 [==============================] - 2s 189ms/step - loss: 0.0015 - val_loss: 2.5232e-04\n",
            "Epoch 60/100\n",
            "12/12 [==============================] - 2s 191ms/step - loss: 0.0031 - val_loss: 3.4946e-04\n",
            "Epoch 61/100\n",
            "12/12 [==============================] - 2s 189ms/step - loss: 0.0021 - val_loss: 3.6203e-04\n",
            "Epoch 62/100\n",
            "12/12 [==============================] - 2s 199ms/step - loss: 0.0016 - val_loss: 3.5626e-04\n",
            "Epoch 63/100\n",
            "12/12 [==============================] - 3s 267ms/step - loss: 0.0018 - val_loss: 2.5169e-04\n",
            "Epoch 64/100\n",
            "12/12 [==============================] - 2s 187ms/step - loss: 0.0013 - val_loss: 2.4596e-04\n",
            "Epoch 65/100\n",
            "12/12 [==============================] - 2s 189ms/step - loss: 0.0020 - val_loss: 2.5118e-04\n",
            "Epoch 66/100\n",
            "12/12 [==============================] - 2s 187ms/step - loss: 0.0024 - val_loss: 3.5407e-04\n",
            "Epoch 67/100\n",
            "12/12 [==============================] - 2s 188ms/step - loss: 0.0022 - val_loss: 5.6782e-04\n",
            "Epoch 68/100\n",
            "12/12 [==============================] - 3s 289ms/step - loss: 0.0019 - val_loss: 2.7551e-04\n",
            "Epoch 69/100\n",
            "12/12 [==============================] - 2s 190ms/step - loss: 0.0014 - val_loss: 3.8783e-04\n",
            "Epoch 70/100\n",
            "12/12 [==============================] - 2s 190ms/step - loss: 0.0014 - val_loss: 2.6039e-04\n",
            "Epoch 71/100\n",
            "12/12 [==============================] - 2s 189ms/step - loss: 0.0012 - val_loss: 2.4493e-04\n",
            "Epoch 72/100\n",
            "12/12 [==============================] - 2s 188ms/step - loss: 0.0020 - val_loss: 3.0401e-04\n",
            "Epoch 73/100\n",
            "12/12 [==============================] - 3s 283ms/step - loss: 0.0023 - val_loss: 2.8627e-04\n",
            "Epoch 74/100\n",
            "12/12 [==============================] - 2s 188ms/step - loss: 0.0016 - val_loss: 2.5418e-04\n",
            "Epoch 75/100\n",
            "12/12 [==============================] - 2s 188ms/step - loss: 0.0018 - val_loss: 2.4577e-04\n",
            "Epoch 76/100\n",
            "12/12 [==============================] - 2s 190ms/step - loss: 0.0029 - val_loss: 2.3973e-04\n",
            "Epoch 77/100\n",
            "12/12 [==============================] - 2s 190ms/step - loss: 0.0022 - val_loss: 2.7326e-04\n",
            "Epoch 78/100\n",
            "12/12 [==============================] - 3s 260ms/step - loss: 0.0016 - val_loss: 2.4319e-04\n",
            "Epoch 79/100\n",
            "12/12 [==============================] - 2s 199ms/step - loss: 0.0019 - val_loss: 2.4597e-04\n",
            "Epoch 80/100\n",
            "12/12 [==============================] - 2s 189ms/step - loss: 0.0012 - val_loss: 2.3634e-04\n",
            "Epoch 81/100\n",
            "12/12 [==============================] - 2s 186ms/step - loss: 0.0014 - val_loss: 2.3947e-04\n",
            "Epoch 82/100\n",
            "12/12 [==============================] - 2s 188ms/step - loss: 0.0011 - val_loss: 2.8362e-04\n",
            "Epoch 83/100\n",
            "12/12 [==============================] - 3s 231ms/step - loss: 0.0014 - val_loss: 2.7291e-04\n",
            "Epoch 84/100\n",
            "12/12 [==============================] - 3s 231ms/step - loss: 0.0011 - val_loss: 2.5687e-04\n",
            "Epoch 85/100\n",
            "12/12 [==============================] - 2s 187ms/step - loss: 0.0016 - val_loss: 3.5388e-04\n",
            "Epoch 86/100\n",
            "12/12 [==============================] - 2s 187ms/step - loss: 0.0021 - val_loss: 2.4900e-04\n",
            "Epoch 87/100\n",
            "12/12 [==============================] - 2s 189ms/step - loss: 0.0019 - val_loss: 2.5399e-04\n",
            "Epoch 88/100\n",
            "12/12 [==============================] - 2s 203ms/step - loss: 0.0013 - val_loss: 2.4585e-04\n",
            "Epoch 89/100\n",
            "12/12 [==============================] - 3s 258ms/step - loss: 0.0013 - val_loss: 2.3344e-04\n",
            "Epoch 90/100\n",
            "12/12 [==============================] - 2s 186ms/step - loss: 0.0012 - val_loss: 2.3554e-04\n",
            "Epoch 91/100\n",
            "12/12 [==============================] - 2s 186ms/step - loss: 0.0012 - val_loss: 2.3026e-04\n",
            "Epoch 92/100\n",
            "12/12 [==============================] - 2s 185ms/step - loss: 0.0013 - val_loss: 2.7028e-04\n",
            "Epoch 93/100\n",
            "12/12 [==============================] - 2s 186ms/step - loss: 0.0012 - val_loss: 3.1197e-04\n",
            "Epoch 94/100\n",
            "12/12 [==============================] - 3s 287ms/step - loss: 0.0026 - val_loss: 2.1597e-04\n",
            "Epoch 95/100\n",
            "12/12 [==============================] - 2s 188ms/step - loss: 0.0023 - val_loss: 5.7806e-04\n",
            "Epoch 96/100\n",
            "12/12 [==============================] - 2s 187ms/step - loss: 0.0013 - val_loss: 2.2256e-04\n",
            "Epoch 97/100\n",
            "12/12 [==============================] - 2s 188ms/step - loss: 0.0015 - val_loss: 2.2045e-04\n",
            "Epoch 98/100\n",
            "12/12 [==============================] - 2s 187ms/step - loss: 0.0012 - val_loss: 2.3243e-04\n",
            "Epoch 99/100\n",
            "12/12 [==============================] - 3s 280ms/step - loss: 0.0015 - val_loss: 2.8578e-04\n",
            "Epoch 100/100\n",
            "12/12 [==============================] - 2s 188ms/step - loss: 0.0024 - val_loss: 2.4736e-04\n"
          ]
        },
        {
          "output_type": "execute_result",
          "data": {
            "text/plain": [
              "<keras.callbacks.History at 0x7f065c52ec70>"
            ]
          },
          "metadata": {},
          "execution_count": 19
        }
      ]
    },
    {
      "cell_type": "code",
      "source": [
        "import tensorflow as tf"
      ],
      "metadata": {
        "id": "XCcSEG-KN3oN"
      },
      "execution_count": 20,
      "outputs": []
    },
    {
      "cell_type": "code",
      "source": [
        "tf.__version__"
      ],
      "metadata": {
        "colab": {
          "base_uri": "https://localhost:8080/",
          "height": 35
        },
        "id": "rjBnX-46PeB-",
        "outputId": "32147899-69c5-43a1-84bb-17927264a42f"
      },
      "execution_count": 21,
      "outputs": [
        {
          "output_type": "execute_result",
          "data": {
            "text/plain": [
              "'2.12.0'"
            ],
            "application/vnd.google.colaboratory.intrinsic+json": {
              "type": "string"
            }
          },
          "metadata": {},
          "execution_count": 21
        }
      ]
    },
    {
      "cell_type": "code",
      "source": [
        "### Lets Do the prediction and check performance metrics\n",
        "train_predict=model.predict(X_train)\n",
        "test_predict=model.predict(X_test)"
      ],
      "metadata": {
        "colab": {
          "base_uri": "https://localhost:8080/"
        },
        "id": "6gu5zcl_PlNe",
        "outputId": "d31ba0d9-a4f8-45a8-903f-e1cbfd90b0c8"
      },
      "execution_count": 22,
      "outputs": [
        {
          "output_type": "stream",
          "name": "stdout",
          "text": [
            "23/23 [==============================] - 2s 45ms/step\n",
            "11/11 [==============================] - 1s 53ms/step\n"
          ]
        }
      ]
    },
    {
      "cell_type": "code",
      "source": [
        "##Transformback to original form\n",
        "train_predict=scaler.inverse_transform(train_predict)\n",
        "test_predict=scaler.inverse_transform(test_predict)"
      ],
      "metadata": {
        "id": "eyKb4JAsPpFs"
      },
      "execution_count": 23,
      "outputs": []
    },
    {
      "cell_type": "code",
      "source": [
        "### Calculate RMSE performance metrics\n",
        "import math\n",
        "from sklearn.metrics import mean_squared_error\n",
        "math.sqrt(mean_squared_error(y_train,train_predict))"
      ],
      "metadata": {
        "colab": {
          "base_uri": "https://localhost:8080/"
        },
        "id": "FHaSkNKIPtjM",
        "outputId": "5955494e-ab84-42bf-bbed-22fb41c3621c"
      },
      "execution_count": 24,
      "outputs": [
        {
          "output_type": "execute_result",
          "data": {
            "text/plain": [
              "228.31323566945576"
            ]
          },
          "metadata": {},
          "execution_count": 24
        }
      ]
    },
    {
      "cell_type": "code",
      "source": [
        "### Plotting \n",
        "# shift train predictions for plotting\n",
        "look_back=100\n",
        "trainPredictPlot = numpy.empty_like(df1)\n",
        "trainPredictPlot[:, :] = np.nan\n",
        "trainPredictPlot[look_back:len(train_predict)+look_back, :] = train_predict\n",
        "# shift test predictions for plotting\n",
        "testPredictPlot = numpy.empty_like(df1)\n",
        "testPredictPlot[:, :] = numpy.nan\n",
        "testPredictPlot[len(train_predict)+(look_back*2)+1:len(df1)-1, :] = test_predict\n",
        "# plot baseline and predictions\n",
        "plt.plot(scaler.inverse_transform(df1))\n",
        "plt.plot(trainPredictPlot)\n",
        "plt.plot(testPredictPlot)\n",
        "plt.show()"
      ],
      "metadata": {
        "colab": {
          "base_uri": "https://localhost:8080/",
          "height": 430
        },
        "id": "pocb0jLxP1ds",
        "outputId": "a58702a0-7b21-46f7-80e0-33d8d8f96a26"
      },
      "execution_count": 25,
      "outputs": [
        {
          "output_type": "display_data",
          "data": {
            "text/plain": [
              "<Figure size 640x480 with 1 Axes>"
            ],
            "image/png": "[encoded data removed]"
          },
          "metadata": {}
        }
      ]
    },
    {
      "cell_type": "code",
      "source": [
        "len(test_data)"
      ],
      "metadata": {
        "colab": {
          "base_uri": "https://localhost:8080/"
        },
        "id": "wO8MKhETQxu9",
        "outputId": "916af4cf-71b5-475c-a090-81e6b69b000d"
      },
      "execution_count": 26,
      "outputs": [
        {
          "output_type": "execute_result",
          "data": {
            "text/plain": [
              "441"
            ]
          },
          "metadata": {},
          "execution_count": 26
        }
      ]
    },
    {
      "cell_type": "code",
      "source": [
        "x_input=test_data[341:].reshape(1,-1)\n",
        "x_input.shape"
      ],
      "metadata": {
        "colab": {
          "base_uri": "https://localhost:8080/"
        },
        "id": "S9m5FZgbQ3L0",
        "outputId": "d02476eb-ef51-4280-da45-512b6bba0ff9"
      },
      "execution_count": 27,
      "outputs": [
        {
          "output_type": "execute_result",
          "data": {
            "text/plain": [
              "(1, 100)"
            ]
          },
          "metadata": {},
          "execution_count": 27
        }
      ]
    },
    {
      "cell_type": "code",
      "source": [
        "temp_input=list(x_input)\n",
        "temp_input=temp_input[0].tolist()"
      ],
      "metadata": {
        "id": "LXf0rDqdRLj8"
      },
      "execution_count": 28,
      "outputs": []
    },
    {
      "cell_type": "code",
      "source": [
        "temp_input"
      ],
      "metadata": {
        "colab": {
          "base_uri": "https://localhost:8080/"
        },
        "id": "EVi2ZtqQRbo0",
        "outputId": "56cac7ea-8b00-402d-f1c0-6d4bbf54c8bb"
      },
      "execution_count": 29,
      "outputs": [
        {
          "output_type": "execute_result",
          "data": {
            "text/plain": [
              "[0.09362554790231681,\n",
              " 0.08598622417031926,\n",
              " 0.10316844082654975,\n",
              " 0.10386975579211016,\n",
              " 0.1026174076393237,\n",
              " 0.0996618659987476,\n",
              " 0.09034439574201625,\n",
              " 0.08541014402003755,\n",
              " 0.08969317470256727,\n",
              " 0.08846587351283652,\n",
              " 0.0943018159048215,\n",
              " 0.096756418284283,\n",
              " 0.09109580463368816,\n",
              " 0.07428929242329363,\n",
              " 0.06930494677520344,\n",
              " 0.06394489668127734,\n",
              " 0.06376956793988725,\n",
              " 0.07165936130244199,\n",
              " 0.0635942391984971,\n",
              " 0.06266750156543521,\n",
              " 0.05808390732623664,\n",
              " 0.04809016906700059,\n",
              " 0.05703193487789604,\n",
              " 0.05783343769567939,\n",
              " 0.04566061365059482,\n",
              " 0.04889167188478394,\n",
              " 0.045535378835316165,\n",
              " 0.05705698184095176,\n",
              " 0.05838447088290544,\n",
              " 0.05983719474013771,\n",
              " 0.06675015654351907,\n",
              " 0.0665497808390732,\n",
              " 0.0699311208515967,\n",
              " 0.0728866624921728,\n",
              " 0.07105823418910456,\n",
              " 0.07120851596743893,\n",
              " 0.07772072636192856,\n",
              " 0.08583594239198494,\n",
              " 0.08939261114589853,\n",
              " 0.08771446462116467,\n",
              " 0.09297432686286783,\n",
              " 0.09790857858484658,\n",
              " 0.09056981840951783,\n",
              " 0.0938008766437069,\n",
              " 0.09665623043206006,\n",
              " 0.11015654351909826,\n",
              " 0.11937382592360674,\n",
              " 0.1124358171571696,\n",
              " 0.11974953036944269,\n",
              " 0.11291170945522849,\n",
              " 0.11028177833437691,\n",
              " 0.1106324358171571,\n",
              " 0.11774577332498432,\n",
              " 0.11611772072636184,\n",
              " 0.12145272385723233,\n",
              " 0.11739511584220413,\n",
              " 0.11448966812773947,\n",
              " 0.10429555416405756,\n",
              " 0.10537257357545393,\n",
              " 0.10659987476518468,\n",
              " 0.09986224170319347,\n",
              " 0.10289292423293667,\n",
              " 0.10161552911709448,\n",
              " 0.09635566687539132,\n",
              " 0.09785848465873509,\n",
              " 0.11068252974326859,\n",
              " 0.11769567939887288,\n",
              " 0.11211020663744514,\n",
              " 0.11529117094552283,\n",
              " 0.1095804633688165,\n",
              " 0.10434564809016905,\n",
              " 0.10927989981214775,\n",
              " 0.11458985597996241,\n",
              " 0.11559173450219157,\n",
              " 0.12275516593613017,\n",
              " 0.1206261740763932,\n",
              " 0.12663744520976827,\n",
              " 0.13134627426424544,\n",
              " 0.12771446462116465,\n",
              " 0.13046963055729488,\n",
              " 0.13377582968065116,\n",
              " 0.12884157795867246,\n",
              " 0.12726361928616153,\n",
              " 0.13507827175954912,\n",
              " 0.13906073888541015,\n",
              " 0.1454226675015654,\n",
              " 0.14860363180964303,\n",
              " 0.14725109580463364,\n",
              " 0.14256731371321218,\n",
              " 0.14482154038822787,\n",
              " 0.13823418910457103,\n",
              " 0.13515341264871633,\n",
              " 0.1334001252348152,\n",
              " 0.14707576706324355,\n",
              " 0.14619912335629304,\n",
              " 0.14624921728240442,\n",
              " 0.14935504070131495,\n",
              " 0.15226048841577955,\n",
              " 0.14980588603631806,\n",
              " 0.14572323105823415]"
            ]
          },
          "metadata": {},
          "execution_count": 29
        }
      ]
    },
    {
      "cell_type": "code",
      "source": [
        "# demonstrate prediction for next 10 days\n",
        "from numpy import array\n",
        "\n",
        "lst_output=[]\n",
        "n_steps=100\n",
        "i=0\n",
        "while(i<30):\n",
        "    \n",
        "    if(len(temp_input)>100):\n",
        "        #print(temp_input)\n",
        "        x_input=np.array(temp_input[1:])\n",
        "        print(\"{} day input {}\".format(i,x_input))\n",
        "        x_input=x_input.reshape(1,-1)\n",
        "        x_input = x_input.reshape((1, n_steps, 1))\n",
        "        #print(x_input)\n",
        "        yhat = model.predict(x_input, verbose=0)\n",
        "        print(\"{} day output {}\".format(i,yhat))\n",
        "        temp_input.extend(yhat[0].tolist())\n",
        "        temp_input=temp_input[1:]\n",
        "        #print(temp_input)\n",
        "        lst_output.extend(yhat.tolist())\n",
        "        i=i+1\n",
        "    else:\n",
        "        x_input = x_input.reshape((1, n_steps,1))\n",
        "        yhat = model.predict(x_input, verbose=0)\n",
        "        print(yhat[0])\n",
        "        temp_input.extend(yhat[0].tolist())\n",
        "        print(len(temp_input))\n",
        "        lst_output.extend(yhat.tolist())\n",
        "        i=i+1\n",
        "    \n",
        "\n",
        "print(lst_output)"
      ],
      "metadata": {
        "colab": {
          "base_uri": "https://localhost:8080/"
        },
        "id": "7zE9mCqARkC0",
        "outputId": "4ef31071-3011-4f2b-e989-ebfffd70884c"
      },
      "execution_count": 30,
      "outputs": [
        {
          "output_type": "stream",
          "name": "stdout",
          "text": [
            "[0.13993384]\n",
            "101\n",
            "1 day input [0.08598622 0.10316844 0.10386976 0.10261741 0.09966187 0.0903444\n",
            " 0.08541014 0.08969317 0.08846587 0.09430182 0.09675642 0.0910958\n",
            " 0.07428929 0.06930495 0.0639449  0.06376957 0.07165936 0.06359424\n",
            " 0.0626675  0.05808391 0.04809017 0.05703193 0.05783344 0.04566061\n",
            " 0.04889167 0.04553538 0.05705698 0.05838447 0.05983719 0.06675016\n",
            " 0.06654978 0.06993112 0.07288666 0.07105823 0.07120852 0.07772073\n",
            " 0.08583594 0.08939261 0.08771446 0.09297433 0.09790858 0.09056982\n",
            " 0.09380088 0.09665623 0.11015654 0.11937383 0.11243582 0.11974953\n",
            " 0.11291171 0.11028178 0.11063244 0.11774577 0.11611772 0.12145272\n",
            " 0.11739512 0.11448967 0.10429555 0.10537257 0.10659987 0.09986224\n",
            " 0.10289292 0.10161553 0.09635567 0.09785848 0.11068253 0.11769568\n",
            " 0.11211021 0.11529117 0.10958046 0.10434565 0.1092799  0.11458986\n",
            " 0.11559173 0.12275517 0.12062617 0.12663745 0.13134627 0.12771446\n",
            " 0.13046963 0.13377583 0.12884158 0.12726362 0.13507827 0.13906074\n",
            " 0.14542267 0.14860363 0.1472511  0.14256731 0.14482154 0.13823419\n",
            " 0.13515341 0.13340013 0.14707577 0.14619912 0.14624922 0.14935504\n",
            " 0.15226049 0.14980589 0.14572323 0.13993384]\n",
            "1 day output [[0.14031906]]\n",
            "2 day input [0.10316844 0.10386976 0.10261741 0.09966187 0.0903444  0.08541014\n",
            " 0.08969317 0.08846587 0.09430182 0.09675642 0.0910958  0.07428929\n",
            " 0.06930495 0.0639449  0.06376957 0.07165936 0.06359424 0.0626675\n",
            " 0.05808391 0.04809017 0.05703193 0.05783344 0.04566061 0.04889167\n",
            " 0.04553538 0.05705698 0.05838447 0.05983719 0.06675016 0.06654978\n",
            " 0.06993112 0.07288666 0.07105823 0.07120852 0.07772073 0.08583594\n",
            " 0.08939261 0.08771446 0.09297433 0.09790858 0.09056982 0.09380088\n",
            " 0.09665623 0.11015654 0.11937383 0.11243582 0.11974953 0.11291171\n",
            " 0.11028178 0.11063244 0.11774577 0.11611772 0.12145272 0.11739512\n",
            " 0.11448967 0.10429555 0.10537257 0.10659987 0.09986224 0.10289292\n",
            " 0.10161553 0.09635567 0.09785848 0.11068253 0.11769568 0.11211021\n",
            " 0.11529117 0.10958046 0.10434565 0.1092799  0.11458986 0.11559173\n",
            " 0.12275517 0.12062617 0.12663745 0.13134627 0.12771446 0.13046963\n",
            " 0.13377583 0.12884158 0.12726362 0.13507827 0.13906074 0.14542267\n",
            " 0.14860363 0.1472511  0.14256731 0.14482154 0.13823419 0.13515341\n",
            " 0.13340013 0.14707577 0.14619912 0.14624922 0.14935504 0.15226049\n",
            " 0.14980589 0.14572323 0.13993384 0.14031906]\n",
            "2 day output [[0.14025275]]\n",
            "3 day input [0.10386976 0.10261741 0.09966187 0.0903444  0.08541014 0.08969317\n",
            " 0.08846587 0.09430182 0.09675642 0.0910958  0.07428929 0.06930495\n",
            " 0.0639449  0.06376957 0.07165936 0.06359424 0.0626675  0.05808391\n",
            " 0.04809017 0.05703193 0.05783344 0.04566061 0.04889167 0.04553538\n",
            " 0.05705698 0.05838447 0.05983719 0.06675016 0.06654978 0.06993112\n",
            " 0.07288666 0.07105823 0.07120852 0.07772073 0.08583594 0.08939261\n",
            " 0.08771446 0.09297433 0.09790858 0.09056982 0.09380088 0.09665623\n",
            " 0.11015654 0.11937383 0.11243582 0.11974953 0.11291171 0.11028178\n",
            " 0.11063244 0.11774577 0.11611772 0.12145272 0.11739512 0.11448967\n",
            " 0.10429555 0.10537257 0.10659987 0.09986224 0.10289292 0.10161553\n",
            " 0.09635567 0.09785848 0.11068253 0.11769568 0.11211021 0.11529117\n",
            " 0.10958046 0.10434565 0.1092799  0.11458986 0.11559173 0.12275517\n",
            " 0.12062617 0.12663745 0.13134627 0.12771446 0.13046963 0.13377583\n",
            " 0.12884158 0.12726362 0.13507827 0.13906074 0.14542267 0.14860363\n",
            " 0.1472511  0.14256731 0.14482154 0.13823419 0.13515341 0.13340013\n",
            " 0.14707577 0.14619912 0.14624922 0.14935504 0.15226049 0.14980589\n",
            " 0.14572323 0.13993384 0.14031906 0.14025275]\n",
            "3 day output [[0.13983512]]\n",
            "4 day input [0.10261741 0.09966187 0.0903444  0.08541014 0.08969317 0.08846587\n",
            " 0.09430182 0.09675642 0.0910958  0.07428929 0.06930495 0.0639449\n",
            " 0.06376957 0.07165936 0.06359424 0.0626675  0.05808391 0.04809017\n",
            " 0.05703193 0.05783344 0.04566061 0.04889167 0.04553538 0.05705698\n",
            " 0.05838447 0.05983719 0.06675016 0.06654978 0.06993112 0.07288666\n",
            " 0.07105823 0.07120852 0.07772073 0.08583594 0.08939261 0.08771446\n",
            " 0.09297433 0.09790858 0.09056982 0.09380088 0.09665623 0.11015654\n",
            " 0.11937383 0.11243582 0.11974953 0.11291171 0.11028178 0.11063244\n",
            " 0.11774577 0.11611772 0.12145272 0.11739512 0.11448967 0.10429555\n",
            " 0.10537257 0.10659987 0.09986224 0.10289292 0.10161553 0.09635567\n",
            " 0.09785848 0.11068253 0.11769568 0.11211021 0.11529117 0.10958046\n",
            " 0.10434565 0.1092799  0.11458986 0.11559173 0.12275517 0.12062617\n",
            " 0.12663745 0.13134627 0.12771446 0.13046963 0.13377583 0.12884158\n",
            " 0.12726362 0.13507827 0.13906074 0.14542267 0.14860363 0.1472511\n",
            " 0.14256731 0.14482154 0.13823419 0.13515341 0.13340013 0.14707577\n",
            " 0.14619912 0.14624922 0.14935504 0.15226049 0.14980589 0.14572323\n",
            " 0.13993384 0.14031906 0.14025275 0.13983512]\n",
            "4 day output [[0.13916914]]\n",
            "5 day input [0.09966187 0.0903444  0.08541014 0.08969317 0.08846587 0.09430182\n",
            " 0.09675642 0.0910958  0.07428929 0.06930495 0.0639449  0.06376957\n",
            " 0.07165936 0.06359424 0.0626675  0.05808391 0.04809017 0.05703193\n",
            " 0.05783344 0.04566061 0.04889167 0.04553538 0.05705698 0.05838447\n",
            " 0.05983719 0.06675016 0.06654978 0.06993112 0.07288666 0.07105823\n",
            " 0.07120852 0.07772073 0.08583594 0.08939261 0.08771446 0.09297433\n",
            " 0.09790858 0.09056982 0.09380088 0.09665623 0.11015654 0.11937383\n",
            " 0.11243582 0.11974953 0.11291171 0.11028178 0.11063244 0.11774577\n",
            " 0.11611772 0.12145272 0.11739512 0.11448967 0.10429555 0.10537257\n",
            " 0.10659987 0.09986224 0.10289292 0.10161553 0.09635567 0.09785848\n",
            " 0.11068253 0.11769568 0.11211021 0.11529117 0.10958046 0.10434565\n",
            " 0.1092799  0.11458986 0.11559173 0.12275517 0.12062617 0.12663745\n",
            " 0.13134627 0.12771446 0.13046963 0.13377583 0.12884158 0.12726362\n",
            " 0.13507827 0.13906074 0.14542267 0.14860363 0.1472511  0.14256731\n",
            " 0.14482154 0.13823419 0.13515341 0.13340013 0.14707577 0.14619912\n",
            " 0.14624922 0.14935504 0.15226049 0.14980589 0.14572323 0.13993384\n",
            " 0.14031906 0.14025275 0.13983512 0.13916914]\n",
            "5 day output [[0.1383348]]\n",
            "6 day input [0.0903444  0.08541014 0.08969317 0.08846587 0.09430182 0.09675642\n",
            " 0.0910958  0.07428929 0.06930495 0.0639449  0.06376957 0.07165936\n",
            " 0.06359424 0.0626675  0.05808391 0.04809017 0.05703193 0.05783344\n",
            " 0.04566061 0.04889167 0.04553538 0.05705698 0.05838447 0.05983719\n",
            " 0.06675016 0.06654978 0.06993112 0.07288666 0.07105823 0.07120852\n",
            " 0.07772073 0.08583594 0.08939261 0.08771446 0.09297433 0.09790858\n",
            " 0.09056982 0.09380088 0.09665623 0.11015654 0.11937383 0.11243582\n",
            " 0.11974953 0.11291171 0.11028178 0.11063244 0.11774577 0.11611772\n",
            " 0.12145272 0.11739512 0.11448967 0.10429555 0.10537257 0.10659987\n",
            " 0.09986224 0.10289292 0.10161553 0.09635567 0.09785848 0.11068253\n",
            " 0.11769568 0.11211021 0.11529117 0.10958046 0.10434565 0.1092799\n",
            " 0.11458986 0.11559173 0.12275517 0.12062617 0.12663745 0.13134627\n",
            " 0.12771446 0.13046963 0.13377583 0.12884158 0.12726362 0.13507827\n",
            " 0.13906074 0.14542267 0.14860363 0.1472511  0.14256731 0.14482154\n",
            " 0.13823419 0.13515341 0.13340013 0.14707577 0.14619912 0.14624922\n",
            " 0.14935504 0.15226049 0.14980589 0.14572323 0.13993384 0.14031906\n",
            " 0.14025275 0.13983512 0.13916914 0.1383348 ]\n",
            "6 day output [[0.1373879]]\n",
            "7 day input [0.08541014 0.08969317 0.08846587 0.09430182 0.09675642 0.0910958\n",
            " 0.07428929 0.06930495 0.0639449  0.06376957 0.07165936 0.06359424\n",
            " 0.0626675  0.05808391 0.04809017 0.05703193 0.05783344 0.04566061\n",
            " 0.04889167 0.04553538 0.05705698 0.05838447 0.05983719 0.06675016\n",
            " 0.06654978 0.06993112 0.07288666 0.07105823 0.07120852 0.07772073\n",
            " 0.08583594 0.08939261 0.08771446 0.09297433 0.09790858 0.09056982\n",
            " 0.09380088 0.09665623 0.11015654 0.11937383 0.11243582 0.11974953\n",
            " 0.11291171 0.11028178 0.11063244 0.11774577 0.11611772 0.12145272\n",
            " 0.11739512 0.11448967 0.10429555 0.10537257 0.10659987 0.09986224\n",
            " 0.10289292 0.10161553 0.09635567 0.09785848 0.11068253 0.11769568\n",
            " 0.11211021 0.11529117 0.10958046 0.10434565 0.1092799  0.11458986\n",
            " 0.11559173 0.12275517 0.12062617 0.12663745 0.13134627 0.12771446\n",
            " 0.13046963 0.13377583 0.12884158 0.12726362 0.13507827 0.13906074\n",
            " 0.14542267 0.14860363 0.1472511  0.14256731 0.14482154 0.13823419\n",
            " 0.13515341 0.13340013 0.14707577 0.14619912 0.14624922 0.14935504\n",
            " 0.15226049 0.14980589 0.14572323 0.13993384 0.14031906 0.14025275\n",
            " 0.13983512 0.13916914 0.1383348  0.1373879 ]\n",
            "7 day output [[0.1363655]]\n",
            "8 day input [0.08969317 0.08846587 0.09430182 0.09675642 0.0910958  0.07428929\n",
            " 0.06930495 0.0639449  0.06376957 0.07165936 0.06359424 0.0626675\n",
            " 0.05808391 0.04809017 0.05703193 0.05783344 0.04566061 0.04889167\n",
            " 0.04553538 0.05705698 0.05838447 0.05983719 0.06675016 0.06654978\n",
            " 0.06993112 0.07288666 0.07105823 0.07120852 0.07772073 0.08583594\n",
            " 0.08939261 0.08771446 0.09297433 0.09790858 0.09056982 0.09380088\n",
            " 0.09665623 0.11015654 0.11937383 0.11243582 0.11974953 0.11291171\n",
            " 0.11028178 0.11063244 0.11774577 0.11611772 0.12145272 0.11739512\n",
            " 0.11448967 0.10429555 0.10537257 0.10659987 0.09986224 0.10289292\n",
            " 0.10161553 0.09635567 0.09785848 0.11068253 0.11769568 0.11211021\n",
            " 0.11529117 0.10958046 0.10434565 0.1092799  0.11458986 0.11559173\n",
            " 0.12275517 0.12062617 0.12663745 0.13134627 0.12771446 0.13046963\n",
            " 0.13377583 0.12884158 0.12726362 0.13507827 0.13906074 0.14542267\n",
            " 0.14860363 0.1472511  0.14256731 0.14482154 0.13823419 0.13515341\n",
            " 0.13340013 0.14707577 0.14619912 0.14624922 0.14935504 0.15226049\n",
            " 0.14980589 0.14572323 0.13993384 0.14031906 0.14025275 0.13983512\n",
            " 0.13916914 0.1383348  0.1373879  0.1363655 ]\n",
            "8 day output [[0.13529252]]\n",
            "9 day input [0.08846587 0.09430182 0.09675642 0.0910958  0.07428929 0.06930495\n",
            " 0.0639449  0.06376957 0.07165936 0.06359424 0.0626675  0.05808391\n",
            " 0.04809017 0.05703193 0.05783344 0.04566061 0.04889167 0.04553538\n",
            " 0.05705698 0.05838447 0.05983719 0.06675016 0.06654978 0.06993112\n",
            " 0.07288666 0.07105823 0.07120852 0.07772073 0.08583594 0.08939261\n",
            " 0.08771446 0.09297433 0.09790858 0.09056982 0.09380088 0.09665623\n",
            " 0.11015654 0.11937383 0.11243582 0.11974953 0.11291171 0.11028178\n",
            " 0.11063244 0.11774577 0.11611772 0.12145272 0.11739512 0.11448967\n",
            " 0.10429555 0.10537257 0.10659987 0.09986224 0.10289292 0.10161553\n",
            " 0.09635567 0.09785848 0.11068253 0.11769568 0.11211021 0.11529117\n",
            " 0.10958046 0.10434565 0.1092799  0.11458986 0.11559173 0.12275517\n",
            " 0.12062617 0.12663745 0.13134627 0.12771446 0.13046963 0.13377583\n",
            " 0.12884158 0.12726362 0.13507827 0.13906074 0.14542267 0.14860363\n",
            " 0.1472511  0.14256731 0.14482154 0.13823419 0.13515341 0.13340013\n",
            " 0.14707577 0.14619912 0.14624922 0.14935504 0.15226049 0.14980589\n",
            " 0.14572323 0.13993384 0.14031906 0.14025275 0.13983512 0.13916914\n",
            " 0.1383348  0.1373879  0.1363655  0.13529252]\n",
            "9 day output [[0.13418634]]\n",
            "10 day input [0.09430182 0.09675642 0.0910958  0.07428929 0.06930495 0.0639449\n",
            " 0.06376957 0.07165936 0.06359424 0.0626675  0.05808391 0.04809017\n",
            " 0.05703193 0.05783344 0.04566061 0.04889167 0.04553538 0.05705698\n",
            " 0.05838447 0.05983719 0.06675016 0.06654978 0.06993112 0.07288666\n",
            " 0.07105823 0.07120852 0.07772073 0.08583594 0.08939261 0.08771446\n",
            " 0.09297433 0.09790858 0.09056982 0.09380088 0.09665623 0.11015654\n",
            " 0.11937383 0.11243582 0.11974953 0.11291171 0.11028178 0.11063244\n",
            " 0.11774577 0.11611772 0.12145272 0.11739512 0.11448967 0.10429555\n",
            " 0.10537257 0.10659987 0.09986224 0.10289292 0.10161553 0.09635567\n",
            " 0.09785848 0.11068253 0.11769568 0.11211021 0.11529117 0.10958046\n",
            " 0.10434565 0.1092799  0.11458986 0.11559173 0.12275517 0.12062617\n",
            " 0.12663745 0.13134627 0.12771446 0.13046963 0.13377583 0.12884158\n",
            " 0.12726362 0.13507827 0.13906074 0.14542267 0.14860363 0.1472511\n",
            " 0.14256731 0.14482154 0.13823419 0.13515341 0.13340013 0.14707577\n",
            " 0.14619912 0.14624922 0.14935504 0.15226049 0.14980589 0.14572323\n",
            " 0.13993384 0.14031906 0.14025275 0.13983512 0.13916914 0.1383348\n",
            " 0.1373879  0.1363655  0.13529252 0.13418634]\n",
            "10 day output [[0.1330597]]\n",
            "11 day input [0.09675642 0.0910958  0.07428929 0.06930495 0.0639449  0.06376957\n",
            " 0.07165936 0.06359424 0.0626675  0.05808391 0.04809017 0.05703193\n",
            " 0.05783344 0.04566061 0.04889167 0.04553538 0.05705698 0.05838447\n",
            " 0.05983719 0.06675016 0.06654978 0.06993112 0.07288666 0.07105823\n",
            " 0.07120852 0.07772073 0.08583594 0.08939261 0.08771446 0.09297433\n",
            " 0.09790858 0.09056982 0.09380088 0.09665623 0.11015654 0.11937383\n",
            " 0.11243582 0.11974953 0.11291171 0.11028178 0.11063244 0.11774577\n",
            " 0.11611772 0.12145272 0.11739512 0.11448967 0.10429555 0.10537257\n",
            " 0.10659987 0.09986224 0.10289292 0.10161553 0.09635567 0.09785848\n",
            " 0.11068253 0.11769568 0.11211021 0.11529117 0.10958046 0.10434565\n",
            " 0.1092799  0.11458986 0.11559173 0.12275517 0.12062617 0.12663745\n",
            " 0.13134627 0.12771446 0.13046963 0.13377583 0.12884158 0.12726362\n",
            " 0.13507827 0.13906074 0.14542267 0.14860363 0.1472511  0.14256731\n",
            " 0.14482154 0.13823419 0.13515341 0.13340013 0.14707577 0.14619912\n",
            " 0.14624922 0.14935504 0.15226049 0.14980589 0.14572323 0.13993384\n",
            " 0.14031906 0.14025275 0.13983512 0.13916914 0.1383348  0.1373879\n",
            " 0.1363655  0.13529252 0.13418634 0.1330597 ]\n",
            "11 day output [[0.13192233]]\n",
            "12 day input [0.0910958  0.07428929 0.06930495 0.0639449  0.06376957 0.07165936\n",
            " 0.06359424 0.0626675  0.05808391 0.04809017 0.05703193 0.05783344\n",
            " 0.04566061 0.04889167 0.04553538 0.05705698 0.05838447 0.05983719\n",
            " 0.06675016 0.06654978 0.06993112 0.07288666 0.07105823 0.07120852\n",
            " 0.07772073 0.08583594 0.08939261 0.08771446 0.09297433 0.09790858\n",
            " 0.09056982 0.09380088 0.09665623 0.11015654 0.11937383 0.11243582\n",
            " 0.11974953 0.11291171 0.11028178 0.11063244 0.11774577 0.11611772\n",
            " 0.12145272 0.11739512 0.11448967 0.10429555 0.10537257 0.10659987\n",
            " 0.09986224 0.10289292 0.10161553 0.09635567 0.09785848 0.11068253\n",
            " 0.11769568 0.11211021 0.11529117 0.10958046 0.10434565 0.1092799\n",
            " 0.11458986 0.11559173 0.12275517 0.12062617 0.12663745 0.13134627\n",
            " 0.12771446 0.13046963 0.13377583 0.12884158 0.12726362 0.13507827\n",
            " 0.13906074 0.14542267 0.14860363 0.1472511  0.14256731 0.14482154\n",
            " 0.13823419 0.13515341 0.13340013 0.14707577 0.14619912 0.14624922\n",
            " 0.14935504 0.15226049 0.14980589 0.14572323 0.13993384 0.14031906\n",
            " 0.14025275 0.13983512 0.13916914 0.1383348  0.1373879  0.1363655\n",
            " 0.13529252 0.13418634 0.1330597  0.13192233]\n",
            "12 day output [[0.13078175]]\n",
            "13 day input [0.07428929 0.06930495 0.0639449  0.06376957 0.07165936 0.06359424\n",
            " 0.0626675  0.05808391 0.04809017 0.05703193 0.05783344 0.04566061\n",
            " 0.04889167 0.04553538 0.05705698 0.05838447 0.05983719 0.06675016\n",
            " 0.06654978 0.06993112 0.07288666 0.07105823 0.07120852 0.07772073\n",
            " 0.08583594 0.08939261 0.08771446 0.09297433 0.09790858 0.09056982\n",
            " 0.09380088 0.09665623 0.11015654 0.11937383 0.11243582 0.11974953\n",
            " 0.11291171 0.11028178 0.11063244 0.11774577 0.11611772 0.12145272\n",
            " 0.11739512 0.11448967 0.10429555 0.10537257 0.10659987 0.09986224\n",
            " 0.10289292 0.10161553 0.09635567 0.09785848 0.11068253 0.11769568\n",
            " 0.11211021 0.11529117 0.10958046 0.10434565 0.1092799  0.11458986\n",
            " 0.11559173 0.12275517 0.12062617 0.12663745 0.13134627 0.12771446\n",
            " 0.13046963 0.13377583 0.12884158 0.12726362 0.13507827 0.13906074\n",
            " 0.14542267 0.14860363 0.1472511  0.14256731 0.14482154 0.13823419\n",
            " 0.13515341 0.13340013 0.14707577 0.14619912 0.14624922 0.14935504\n",
            " 0.15226049 0.14980589 0.14572323 0.13993384 0.14031906 0.14025275\n",
            " 0.13983512 0.13916914 0.1383348  0.1373879  0.1363655  0.13529252\n",
            " 0.13418634 0.1330597  0.13192233 0.13078175]\n",
            "13 day output [[0.12964377]]\n",
            "14 day input [0.06930495 0.0639449  0.06376957 0.07165936 0.06359424 0.0626675\n",
            " 0.05808391 0.04809017 0.05703193 0.05783344 0.04566061 0.04889167\n",
            " 0.04553538 0.05705698 0.05838447 0.05983719 0.06675016 0.06654978\n",
            " 0.06993112 0.07288666 0.07105823 0.07120852 0.07772073 0.08583594\n",
            " 0.08939261 0.08771446 0.09297433 0.09790858 0.09056982 0.09380088\n",
            " 0.09665623 0.11015654 0.11937383 0.11243582 0.11974953 0.11291171\n",
            " 0.11028178 0.11063244 0.11774577 0.11611772 0.12145272 0.11739512\n",
            " 0.11448967 0.10429555 0.10537257 0.10659987 0.09986224 0.10289292\n",
            " 0.10161553 0.09635567 0.09785848 0.11068253 0.11769568 0.11211021\n",
            " 0.11529117 0.10958046 0.10434565 0.1092799  0.11458986 0.11559173\n",
            " 0.12275517 0.12062617 0.12663745 0.13134627 0.12771446 0.13046963\n",
            " 0.13377583 0.12884158 0.12726362 0.13507827 0.13906074 0.14542267\n",
            " 0.14860363 0.1472511  0.14256731 0.14482154 0.13823419 0.13515341\n",
            " 0.13340013 0.14707577 0.14619912 0.14624922 0.14935504 0.15226049\n",
            " 0.14980589 0.14572323 0.13993384 0.14031906 0.14025275 0.13983512\n",
            " 0.13916914 0.1383348  0.1373879  0.1363655  0.13529252 0.13418634\n",
            " 0.1330597  0.13192233 0.13078175 0.12964377]\n",
            "14 day output [[0.12851255]]\n",
            "15 day input [0.0639449  0.06376957 0.07165936 0.06359424 0.0626675  0.05808391\n",
            " 0.04809017 0.05703193 0.05783344 0.04566061 0.04889167 0.04553538\n",
            " 0.05705698 0.05838447 0.05983719 0.06675016 0.06654978 0.06993112\n",
            " 0.07288666 0.07105823 0.07120852 0.07772073 0.08583594 0.08939261\n",
            " 0.08771446 0.09297433 0.09790858 0.09056982 0.09380088 0.09665623\n",
            " 0.11015654 0.11937383 0.11243582 0.11974953 0.11291171 0.11028178\n",
            " 0.11063244 0.11774577 0.11611772 0.12145272 0.11739512 0.11448967\n",
            " 0.10429555 0.10537257 0.10659987 0.09986224 0.10289292 0.10161553\n",
            " 0.09635567 0.09785848 0.11068253 0.11769568 0.11211021 0.11529117\n",
            " 0.10958046 0.10434565 0.1092799  0.11458986 0.11559173 0.12275517\n",
            " 0.12062617 0.12663745 0.13134627 0.12771446 0.13046963 0.13377583\n",
            " 0.12884158 0.12726362 0.13507827 0.13906074 0.14542267 0.14860363\n",
            " 0.1472511  0.14256731 0.14482154 0.13823419 0.13515341 0.13340013\n",
            " 0.14707577 0.14619912 0.14624922 0.14935504 0.15226049 0.14980589\n",
            " 0.14572323 0.13993384 0.14031906 0.14025275 0.13983512 0.13916914\n",
            " 0.1383348  0.1373879  0.1363655  0.13529252 0.13418634 0.1330597\n",
            " 0.13192233 0.13078175 0.12964377 0.12851255]\n",
            "15 day output [[0.12739117]]\n",
            "16 day input [0.06376957 0.07165936 0.06359424 0.0626675  0.05808391 0.04809017\n",
            " 0.05703193 0.05783344 0.04566061 0.04889167 0.04553538 0.05705698\n",
            " 0.05838447 0.05983719 0.06675016 0.06654978 0.06993112 0.07288666\n",
            " 0.07105823 0.07120852 0.07772073 0.08583594 0.08939261 0.08771446\n",
            " 0.09297433 0.09790858 0.09056982 0.09380088 0.09665623 0.11015654\n",
            " 0.11937383 0.11243582 0.11974953 0.11291171 0.11028178 0.11063244\n",
            " 0.11774577 0.11611772 0.12145272 0.11739512 0.11448967 0.10429555\n",
            " 0.10537257 0.10659987 0.09986224 0.10289292 0.10161553 0.09635567\n",
            " 0.09785848 0.11068253 0.11769568 0.11211021 0.11529117 0.10958046\n",
            " 0.10434565 0.1092799  0.11458986 0.11559173 0.12275517 0.12062617\n",
            " 0.12663745 0.13134627 0.12771446 0.13046963 0.13377583 0.12884158\n",
            " 0.12726362 0.13507827 0.13906074 0.14542267 0.14860363 0.1472511\n",
            " 0.14256731 0.14482154 0.13823419 0.13515341 0.13340013 0.14707577\n",
            " 0.14619912 0.14624922 0.14935504 0.15226049 0.14980589 0.14572323\n",
            " 0.13993384 0.14031906 0.14025275 0.13983512 0.13916914 0.1383348\n",
            " 0.1373879  0.1363655  0.13529252 0.13418634 0.1330597  0.13192233\n",
            " 0.13078175 0.12964377 0.12851255 0.12739117]\n",
            "16 day output [[0.1262815]]\n",
            "17 day input [0.07165936 0.06359424 0.0626675  0.05808391 0.04809017 0.05703193\n",
            " 0.05783344 0.04566061 0.04889167 0.04553538 0.05705698 0.05838447\n",
            " 0.05983719 0.06675016 0.06654978 0.06993112 0.07288666 0.07105823\n",
            " 0.07120852 0.07772073 0.08583594 0.08939261 0.08771446 0.09297433\n",
            " 0.09790858 0.09056982 0.09380088 0.09665623 0.11015654 0.11937383\n",
            " 0.11243582 0.11974953 0.11291171 0.11028178 0.11063244 0.11774577\n",
            " 0.11611772 0.12145272 0.11739512 0.11448967 0.10429555 0.10537257\n",
            " 0.10659987 0.09986224 0.10289292 0.10161553 0.09635567 0.09785848\n",
            " 0.11068253 0.11769568 0.11211021 0.11529117 0.10958046 0.10434565\n",
            " 0.1092799  0.11458986 0.11559173 0.12275517 0.12062617 0.12663745\n",
            " 0.13134627 0.12771446 0.13046963 0.13377583 0.12884158 0.12726362\n",
            " 0.13507827 0.13906074 0.14542267 0.14860363 0.1472511  0.14256731\n",
            " 0.14482154 0.13823419 0.13515341 0.13340013 0.14707577 0.14619912\n",
            " 0.14624922 0.14935504 0.15226049 0.14980589 0.14572323 0.13993384\n",
            " 0.14031906 0.14025275 0.13983512 0.13916914 0.1383348  0.1373879\n",
            " 0.1363655  0.13529252 0.13418634 0.1330597  0.13192233 0.13078175\n",
            " 0.12964377 0.12851255 0.12739117 0.1262815 ]\n",
            "17 day output [[0.12518442]]\n",
            "18 day input [0.06359424 0.0626675  0.05808391 0.04809017 0.05703193 0.05783344\n",
            " 0.04566061 0.04889167 0.04553538 0.05705698 0.05838447 0.05983719\n",
            " 0.06675016 0.06654978 0.06993112 0.07288666 0.07105823 0.07120852\n",
            " 0.07772073 0.08583594 0.08939261 0.08771446 0.09297433 0.09790858\n",
            " 0.09056982 0.09380088 0.09665623 0.11015654 0.11937383 0.11243582\n",
            " 0.11974953 0.11291171 0.11028178 0.11063244 0.11774577 0.11611772\n",
            " 0.12145272 0.11739512 0.11448967 0.10429555 0.10537257 0.10659987\n",
            " 0.09986224 0.10289292 0.10161553 0.09635567 0.09785848 0.11068253\n",
            " 0.11769568 0.11211021 0.11529117 0.10958046 0.10434565 0.1092799\n",
            " 0.11458986 0.11559173 0.12275517 0.12062617 0.12663745 0.13134627\n",
            " 0.12771446 0.13046963 0.13377583 0.12884158 0.12726362 0.13507827\n",
            " 0.13906074 0.14542267 0.14860363 0.1472511  0.14256731 0.14482154\n",
            " 0.13823419 0.13515341 0.13340013 0.14707577 0.14619912 0.14624922\n",
            " 0.14935504 0.15226049 0.14980589 0.14572323 0.13993384 0.14031906\n",
            " 0.14025275 0.13983512 0.13916914 0.1383348  0.1373879  0.1363655\n",
            " 0.13529252 0.13418634 0.1330597  0.13192233 0.13078175 0.12964377\n",
            " 0.12851255 0.12739117 0.1262815  0.12518442]\n",
            "18 day output [[0.12410013]]\n",
            "19 day input [0.0626675  0.05808391 0.04809017 0.05703193 0.05783344 0.04566061\n",
            " 0.04889167 0.04553538 0.05705698 0.05838447 0.05983719 0.06675016\n",
            " 0.06654978 0.06993112 0.07288666 0.07105823 0.07120852 0.07772073\n",
            " 0.08583594 0.08939261 0.08771446 0.09297433 0.09790858 0.09056982\n",
            " 0.09380088 0.09665623 0.11015654 0.11937383 0.11243582 0.11974953\n",
            " 0.11291171 0.11028178 0.11063244 0.11774577 0.11611772 0.12145272\n",
            " 0.11739512 0.11448967 0.10429555 0.10537257 0.10659987 0.09986224\n",
            " 0.10289292 0.10161553 0.09635567 0.09785848 0.11068253 0.11769568\n",
            " 0.11211021 0.11529117 0.10958046 0.10434565 0.1092799  0.11458986\n",
            " 0.11559173 0.12275517 0.12062617 0.12663745 0.13134627 0.12771446\n",
            " 0.13046963 0.13377583 0.12884158 0.12726362 0.13507827 0.13906074\n",
            " 0.14542267 0.14860363 0.1472511  0.14256731 0.14482154 0.13823419\n",
            " 0.13515341 0.13340013 0.14707577 0.14619912 0.14624922 0.14935504\n",
            " 0.15226049 0.14980589 0.14572323 0.13993384 0.14031906 0.14025275\n",
            " 0.13983512 0.13916914 0.1383348  0.1373879  0.1363655  0.13529252\n",
            " 0.13418634 0.1330597  0.13192233 0.13078175 0.12964377 0.12851255\n",
            " 0.12739117 0.1262815  0.12518442 0.12410013]\n",
            "19 day output [[0.12302829]]\n",
            "20 day input [0.05808391 0.04809017 0.05703193 0.05783344 0.04566061 0.04889167\n",
            " 0.04553538 0.05705698 0.05838447 0.05983719 0.06675016 0.06654978\n",
            " 0.06993112 0.07288666 0.07105823 0.07120852 0.07772073 0.08583594\n",
            " 0.08939261 0.08771446 0.09297433 0.09790858 0.09056982 0.09380088\n",
            " 0.09665623 0.11015654 0.11937383 0.11243582 0.11974953 0.11291171\n",
            " 0.11028178 0.11063244 0.11774577 0.11611772 0.12145272 0.11739512\n",
            " 0.11448967 0.10429555 0.10537257 0.10659987 0.09986224 0.10289292\n",
            " 0.10161553 0.09635567 0.09785848 0.11068253 0.11769568 0.11211021\n",
            " 0.11529117 0.10958046 0.10434565 0.1092799  0.11458986 0.11559173\n",
            " 0.12275517 0.12062617 0.12663745 0.13134627 0.12771446 0.13046963\n",
            " 0.13377583 0.12884158 0.12726362 0.13507827 0.13906074 0.14542267\n",
            " 0.14860363 0.1472511  0.14256731 0.14482154 0.13823419 0.13515341\n",
            " 0.13340013 0.14707577 0.14619912 0.14624922 0.14935504 0.15226049\n",
            " 0.14980589 0.14572323 0.13993384 0.14031906 0.14025275 0.13983512\n",
            " 0.13916914 0.1383348  0.1373879  0.1363655  0.13529252 0.13418634\n",
            " 0.1330597  0.13192233 0.13078175 0.12964377 0.12851255 0.12739117\n",
            " 0.1262815  0.12518442 0.12410013 0.12302829]\n",
            "20 day output [[0.12196816]]\n",
            "21 day input [0.04809017 0.05703193 0.05783344 0.04566061 0.04889167 0.04553538\n",
            " 0.05705698 0.05838447 0.05983719 0.06675016 0.06654978 0.06993112\n",
            " 0.07288666 0.07105823 0.07120852 0.07772073 0.08583594 0.08939261\n",
            " 0.08771446 0.09297433 0.09790858 0.09056982 0.09380088 0.09665623\n",
            " 0.11015654 0.11937383 0.11243582 0.11974953 0.11291171 0.11028178\n",
            " 0.11063244 0.11774577 0.11611772 0.12145272 0.11739512 0.11448967\n",
            " 0.10429555 0.10537257 0.10659987 0.09986224 0.10289292 0.10161553\n",
            " 0.09635567 0.09785848 0.11068253 0.11769568 0.11211021 0.11529117\n",
            " 0.10958046 0.10434565 0.1092799  0.11458986 0.11559173 0.12275517\n",
            " 0.12062617 0.12663745 0.13134627 0.12771446 0.13046963 0.13377583\n",
            " 0.12884158 0.12726362 0.13507827 0.13906074 0.14542267 0.14860363\n",
            " 0.1472511  0.14256731 0.14482154 0.13823419 0.13515341 0.13340013\n",
            " 0.14707577 0.14619912 0.14624922 0.14935504 0.15226049 0.14980589\n",
            " 0.14572323 0.13993384 0.14031906 0.14025275 0.13983512 0.13916914\n",
            " 0.1383348  0.1373879  0.1363655  0.13529252 0.13418634 0.1330597\n",
            " 0.13192233 0.13078175 0.12964377 0.12851255 0.12739117 0.1262815\n",
            " 0.12518442 0.12410013 0.12302829 0.12196816]\n",
            "21 day output [[0.12091883]]\n",
            "22 day input [0.05703193 0.05783344 0.04566061 0.04889167 0.04553538 0.05705698\n",
            " 0.05838447 0.05983719 0.06675016 0.06654978 0.06993112 0.07288666\n",
            " 0.07105823 0.07120852 0.07772073 0.08583594 0.08939261 0.08771446\n",
            " 0.09297433 0.09790858 0.09056982 0.09380088 0.09665623 0.11015654\n",
            " 0.11937383 0.11243582 0.11974953 0.11291171 0.11028178 0.11063244\n",
            " 0.11774577 0.11611772 0.12145272 0.11739512 0.11448967 0.10429555\n",
            " 0.10537257 0.10659987 0.09986224 0.10289292 0.10161553 0.09635567\n",
            " 0.09785848 0.11068253 0.11769568 0.11211021 0.11529117 0.10958046\n",
            " 0.10434565 0.1092799  0.11458986 0.11559173 0.12275517 0.12062617\n",
            " 0.12663745 0.13134627 0.12771446 0.13046963 0.13377583 0.12884158\n",
            " 0.12726362 0.13507827 0.13906074 0.14542267 0.14860363 0.1472511\n",
            " 0.14256731 0.14482154 0.13823419 0.13515341 0.13340013 0.14707577\n",
            " 0.14619912 0.14624922 0.14935504 0.15226049 0.14980589 0.14572323\n",
            " 0.13993384 0.14031906 0.14025275 0.13983512 0.13916914 0.1383348\n",
            " 0.1373879  0.1363655  0.13529252 0.13418634 0.1330597  0.13192233\n",
            " 0.13078175 0.12964377 0.12851255 0.12739117 0.1262815  0.12518442\n",
            " 0.12410013 0.12302829 0.12196816 0.12091883]\n",
            "22 day output [[0.11987935]]\n",
            "23 day input [0.05783344 0.04566061 0.04889167 0.04553538 0.05705698 0.05838447\n",
            " 0.05983719 0.06675016 0.06654978 0.06993112 0.07288666 0.07105823\n",
            " 0.07120852 0.07772073 0.08583594 0.08939261 0.08771446 0.09297433\n",
            " 0.09790858 0.09056982 0.09380088 0.09665623 0.11015654 0.11937383\n",
            " 0.11243582 0.11974953 0.11291171 0.11028178 0.11063244 0.11774577\n",
            " 0.11611772 0.12145272 0.11739512 0.11448967 0.10429555 0.10537257\n",
            " 0.10659987 0.09986224 0.10289292 0.10161553 0.09635567 0.09785848\n",
            " 0.11068253 0.11769568 0.11211021 0.11529117 0.10958046 0.10434565\n",
            " 0.1092799  0.11458986 0.11559173 0.12275517 0.12062617 0.12663745\n",
            " 0.13134627 0.12771446 0.13046963 0.13377583 0.12884158 0.12726362\n",
            " 0.13507827 0.13906074 0.14542267 0.14860363 0.1472511  0.14256731\n",
            " 0.14482154 0.13823419 0.13515341 0.13340013 0.14707577 0.14619912\n",
            " 0.14624922 0.14935504 0.15226049 0.14980589 0.14572323 0.13993384\n",
            " 0.14031906 0.14025275 0.13983512 0.13916914 0.1383348  0.1373879\n",
            " 0.1363655  0.13529252 0.13418634 0.1330597  0.13192233 0.13078175\n",
            " 0.12964377 0.12851255 0.12739117 0.1262815  0.12518442 0.12410013\n",
            " 0.12302829 0.12196816 0.12091883 0.11987935]\n",
            "23 day output [[0.11884886]]\n",
            "24 day input [0.04566061 0.04889167 0.04553538 0.05705698 0.05838447 0.05983719\n",
            " 0.06675016 0.06654978 0.06993112 0.07288666 0.07105823 0.07120852\n",
            " 0.07772073 0.08583594 0.08939261 0.08771446 0.09297433 0.09790858\n",
            " 0.09056982 0.09380088 0.09665623 0.11015654 0.11937383 0.11243582\n",
            " 0.11974953 0.11291171 0.11028178 0.11063244 0.11774577 0.11611772\n",
            " 0.12145272 0.11739512 0.11448967 0.10429555 0.10537257 0.10659987\n",
            " 0.09986224 0.10289292 0.10161553 0.09635567 0.09785848 0.11068253\n",
            " 0.11769568 0.11211021 0.11529117 0.10958046 0.10434565 0.1092799\n",
            " 0.11458986 0.11559173 0.12275517 0.12062617 0.12663745 0.13134627\n",
            " 0.12771446 0.13046963 0.13377583 0.12884158 0.12726362 0.13507827\n",
            " 0.13906074 0.14542267 0.14860363 0.1472511  0.14256731 0.14482154\n",
            " 0.13823419 0.13515341 0.13340013 0.14707577 0.14619912 0.14624922\n",
            " 0.14935504 0.15226049 0.14980589 0.14572323 0.13993384 0.14031906\n",
            " 0.14025275 0.13983512 0.13916914 0.1383348  0.1373879  0.1363655\n",
            " 0.13529252 0.13418634 0.1330597  0.13192233 0.13078175 0.12964377\n",
            " 0.12851255 0.12739117 0.1262815  0.12518442 0.12410013 0.12302829\n",
            " 0.12196816 0.12091883 0.11987935 0.11884886]\n",
            "24 day output [[0.11782637]]\n",
            "25 day input [0.04889167 0.04553538 0.05705698 0.05838447 0.05983719 0.06675016\n",
            " 0.06654978 0.06993112 0.07288666 0.07105823 0.07120852 0.07772073\n",
            " 0.08583594 0.08939261 0.08771446 0.09297433 0.09790858 0.09056982\n",
            " 0.09380088 0.09665623 0.11015654 0.11937383 0.11243582 0.11974953\n",
            " 0.11291171 0.11028178 0.11063244 0.11774577 0.11611772 0.12145272\n",
            " 0.11739512 0.11448967 0.10429555 0.10537257 0.10659987 0.09986224\n",
            " 0.10289292 0.10161553 0.09635567 0.09785848 0.11068253 0.11769568\n",
            " 0.11211021 0.11529117 0.10958046 0.10434565 0.1092799  0.11458986\n",
            " 0.11559173 0.12275517 0.12062617 0.12663745 0.13134627 0.12771446\n",
            " 0.13046963 0.13377583 0.12884158 0.12726362 0.13507827 0.13906074\n",
            " 0.14542267 0.14860363 0.1472511  0.14256731 0.14482154 0.13823419\n",
            " 0.13515341 0.13340013 0.14707577 0.14619912 0.14624922 0.14935504\n",
            " 0.15226049 0.14980589 0.14572323 0.13993384 0.14031906 0.14025275\n",
            " 0.13983512 0.13916914 0.1383348  0.1373879  0.1363655  0.13529252\n",
            " 0.13418634 0.1330597  0.13192233 0.13078175 0.12964377 0.12851255\n",
            " 0.12739117 0.1262815  0.12518442 0.12410013 0.12302829 0.12196816\n",
            " 0.12091883 0.11987935 0.11884886 0.11782637]\n",
            "25 day output [[0.11681109]]\n",
            "26 day input [0.04553538 0.05705698 0.05838447 0.05983719 0.06675016 0.06654978\n",
            " 0.06993112 0.07288666 0.07105823 0.07120852 0.07772073 0.08583594\n",
            " 0.08939261 0.08771446 0.09297433 0.09790858 0.09056982 0.09380088\n",
            " 0.09665623 0.11015654 0.11937383 0.11243582 0.11974953 0.11291171\n",
            " 0.11028178 0.11063244 0.11774577 0.11611772 0.12145272 0.11739512\n",
            " 0.11448967 0.10429555 0.10537257 0.10659987 0.09986224 0.10289292\n",
            " 0.10161553 0.09635567 0.09785848 0.11068253 0.11769568 0.11211021\n",
            " 0.11529117 0.10958046 0.10434565 0.1092799  0.11458986 0.11559173\n",
            " 0.12275517 0.12062617 0.12663745 0.13134627 0.12771446 0.13046963\n",
            " 0.13377583 0.12884158 0.12726362 0.13507827 0.13906074 0.14542267\n",
            " 0.14860363 0.1472511  0.14256731 0.14482154 0.13823419 0.13515341\n",
            " 0.13340013 0.14707577 0.14619912 0.14624922 0.14935504 0.15226049\n",
            " 0.14980589 0.14572323 0.13993384 0.14031906 0.14025275 0.13983512\n",
            " 0.13916914 0.1383348  0.1373879  0.1363655  0.13529252 0.13418634\n",
            " 0.1330597  0.13192233 0.13078175 0.12964377 0.12851255 0.12739117\n",
            " 0.1262815  0.12518442 0.12410013 0.12302829 0.12196816 0.12091883\n",
            " 0.11987935 0.11884886 0.11782637 0.11681109]\n",
            "26 day output [[0.11580248]]\n",
            "27 day input [0.05705698 0.05838447 0.05983719 0.06675016 0.06654978 0.06993112\n",
            " 0.07288666 0.07105823 0.07120852 0.07772073 0.08583594 0.08939261\n",
            " 0.08771446 0.09297433 0.09790858 0.09056982 0.09380088 0.09665623\n",
            " 0.11015654 0.11937383 0.11243582 0.11974953 0.11291171 0.11028178\n",
            " 0.11063244 0.11774577 0.11611772 0.12145272 0.11739512 0.11448967\n",
            " 0.10429555 0.10537257 0.10659987 0.09986224 0.10289292 0.10161553\n",
            " 0.09635567 0.09785848 0.11068253 0.11769568 0.11211021 0.11529117\n",
            " 0.10958046 0.10434565 0.1092799  0.11458986 0.11559173 0.12275517\n",
            " 0.12062617 0.12663745 0.13134627 0.12771446 0.13046963 0.13377583\n",
            " 0.12884158 0.12726362 0.13507827 0.13906074 0.14542267 0.14860363\n",
            " 0.1472511  0.14256731 0.14482154 0.13823419 0.13515341 0.13340013\n",
            " 0.14707577 0.14619912 0.14624922 0.14935504 0.15226049 0.14980589\n",
            " 0.14572323 0.13993384 0.14031906 0.14025275 0.13983512 0.13916914\n",
            " 0.1383348  0.1373879  0.1363655  0.13529252 0.13418634 0.1330597\n",
            " 0.13192233 0.13078175 0.12964377 0.12851255 0.12739117 0.1262815\n",
            " 0.12518442 0.12410013 0.12302829 0.12196816 0.12091883 0.11987935\n",
            " 0.11884886 0.11782637 0.11681109 0.11580248]\n",
            "27 day output [[0.11480004]]\n",
            "28 day input [0.05838447 0.05983719 0.06675016 0.06654978 0.06993112 0.07288666\n",
            " 0.07105823 0.07120852 0.07772073 0.08583594 0.08939261 0.08771446\n",
            " 0.09297433 0.09790858 0.09056982 0.09380088 0.09665623 0.11015654\n",
            " 0.11937383 0.11243582 0.11974953 0.11291171 0.11028178 0.11063244\n",
            " 0.11774577 0.11611772 0.12145272 0.11739512 0.11448967 0.10429555\n",
            " 0.10537257 0.10659987 0.09986224 0.10289292 0.10161553 0.09635567\n",
            " 0.09785848 0.11068253 0.11769568 0.11211021 0.11529117 0.10958046\n",
            " 0.10434565 0.1092799  0.11458986 0.11559173 0.12275517 0.12062617\n",
            " 0.12663745 0.13134627 0.12771446 0.13046963 0.13377583 0.12884158\n",
            " 0.12726362 0.13507827 0.13906074 0.14542267 0.14860363 0.1472511\n",
            " 0.14256731 0.14482154 0.13823419 0.13515341 0.13340013 0.14707577\n",
            " 0.14619912 0.14624922 0.14935504 0.15226049 0.14980589 0.14572323\n",
            " 0.13993384 0.14031906 0.14025275 0.13983512 0.13916914 0.1383348\n",
            " 0.1373879  0.1363655  0.13529252 0.13418634 0.1330597  0.13192233\n",
            " 0.13078175 0.12964377 0.12851255 0.12739117 0.1262815  0.12518442\n",
            " 0.12410013 0.12302829 0.12196816 0.12091883 0.11987935 0.11884886\n",
            " 0.11782637 0.11681109 0.11580248 0.11480004]\n",
            "28 day output [[0.11380351]]\n",
            "29 day input [0.05983719 0.06675016 0.06654978 0.06993112 0.07288666 0.07105823\n",
            " 0.07120852 0.07772073 0.08583594 0.08939261 0.08771446 0.09297433\n",
            " 0.09790858 0.09056982 0.09380088 0.09665623 0.11015654 0.11937383\n",
            " 0.11243582 0.11974953 0.11291171 0.11028178 0.11063244 0.11774577\n",
            " 0.11611772 0.12145272 0.11739512 0.11448967 0.10429555 0.10537257\n",
            " 0.10659987 0.09986224 0.10289292 0.10161553 0.09635567 0.09785848\n",
            " 0.11068253 0.11769568 0.11211021 0.11529117 0.10958046 0.10434565\n",
            " 0.1092799  0.11458986 0.11559173 0.12275517 0.12062617 0.12663745\n",
            " 0.13134627 0.12771446 0.13046963 0.13377583 0.12884158 0.12726362\n",
            " 0.13507827 0.13906074 0.14542267 0.14860363 0.1472511  0.14256731\n",
            " 0.14482154 0.13823419 0.13515341 0.13340013 0.14707577 0.14619912\n",
            " 0.14624922 0.14935504 0.15226049 0.14980589 0.14572323 0.13993384\n",
            " 0.14031906 0.14025275 0.13983512 0.13916914 0.1383348  0.1373879\n",
            " 0.1363655  0.13529252 0.13418634 0.1330597  0.13192233 0.13078175\n",
            " 0.12964377 0.12851255 0.12739117 0.1262815  0.12518442 0.12410013\n",
            " 0.12302829 0.12196816 0.12091883 0.11987935 0.11884886 0.11782637\n",
            " 0.11681109 0.11580248 0.11480004 0.11380351]\n",
            "29 day output [[0.1128126]]\n",
            "[[0.13993383944034576], [0.1403190642595291], [0.1402527540922165], [0.13983511924743652], [0.1391691416501999], [0.13833479583263397], [0.13738790154457092], [0.13636550307273865], [0.13529251515865326], [0.13418634235858917], [0.13305969536304474], [0.13192233443260193], [0.13078175485134125], [0.1296437680721283], [0.12851254642009735], [0.12739117443561554], [0.1262814998626709], [0.12518441677093506], [0.12410012632608414], [0.12302829325199127], [0.12196815758943558], [0.12091883271932602], [0.119879350066185], [0.11884886026382446], [0.11782637238502502], [0.11681108921766281], [0.11580248177051544], [0.11480003595352173], [0.11380350589752197], [0.1128126010298729]]\n"
          ]
        }
      ]
    },
    {
      "cell_type": "code",
      "source": [
        "day_new=np.arange(1,101)\n",
        "day_pred=np.arange(101,131)"
      ],
      "metadata": {
        "id": "n3toPlkcSQNc"
      },
      "execution_count": 31,
      "outputs": []
    },
    {
      "cell_type": "code",
      "source": [
        "import matplotlib.pyplot as plt"
      ],
      "metadata": {
        "id": "H3KJNfc6TXSU"
      },
      "execution_count": 32,
      "outputs": []
    },
    {
      "cell_type": "code",
      "source": [
        "len(df1)"
      ],
      "metadata": {
        "colab": {
          "base_uri": "https://localhost:8080/"
        },
        "id": "BVNHicmmTa0r",
        "outputId": "4ceeea42-ac1d-4e02-b4dc-f43f12419cc8"
      },
      "execution_count": 33,
      "outputs": [
        {
          "output_type": "execute_result",
          "data": {
            "text/plain": [
              "1259"
            ]
          },
          "metadata": {},
          "execution_count": 33
        }
      ]
    },
    {
      "cell_type": "code",
      "source": [
        "plt.plot(day_new,scaler.inverse_transform(df1[1159:]))\n",
        "plt.plot(day_pred,scaler.inverse_transform(lst_output))"
      ],
      "metadata": {
        "colab": {
          "base_uri": "https://localhost:8080/",
          "height": 447
        },
        "id": "lEyLeoERTfAr",
        "outputId": "f0af38a9-05f8-4c5b-8a7d-174bd10570ac"
      },
      "execution_count": 34,
      "outputs": [
        {
          "output_type": "execute_result",
          "data": {
            "text/plain": [
              "[<matplotlib.lines.Line2D at 0x7f065c9892e0>]"
            ]
          },
          "metadata": {},
          "execution_count": 34
        },
        {
          "output_type": "display_data",
          "data": {
            "text/plain": [
              "<Figure size 640x480 with 1 Axes>"
            ],
            "image/png": "[encoded data removed]"
          },
          "metadata": {}
        }
      ]
    },
    {
      "cell_type": "code",
      "source": [
        "df3=df1.tolist()\n",
        "df3.extend(lst_output)\n",
        "plt.plot(df3[1200:])"
      ],
      "metadata": {
        "colab": {
          "base_uri": "https://localhost:8080/",
          "height": 447
        },
        "id": "BvpdYnevToQF",
        "outputId": "ee44434a-4a90-41f6-8196-c9bebe4b42ec"
      },
      "execution_count": 35,
      "outputs": [
        {
          "output_type": "execute_result",
          "data": {
            "text/plain": [
              "[<matplotlib.lines.Line2D at 0x7f065ca03c40>]"
            ]
          },
          "metadata": {},
          "execution_count": 35
        },
        {
          "output_type": "display_data",
          "data": {
            "text/plain": [
              "<Figure size 640x480 with 1 Axes>"
            ],
            "image/png": "[encoded data removed]"
          },
          "metadata": {}
        }
      ]
    },
    {
      "cell_type": "code",
      "source": [
        "df3=scaler.inverse_transform(df3).tolist()"
      ],
      "metadata": {
        "id": "Qy52UGbBT-Ls"
      },
      "execution_count": 36,
      "outputs": []
    },
    {
      "cell_type": "code",
      "source": [
        "plt.plot(df3)"
      ],
      "metadata": {
        "colab": {
          "base_uri": "https://localhost:8080/",
          "height": 447
        },
        "id": "uWG_v2j7UEid",
        "outputId": "779040db-8f65-4d98-cff9-98b417f5d3ea"
      },
      "execution_count": 37,
      "outputs": [
        {
          "output_type": "execute_result",
          "data": {
            "text/plain": [
              "[<matplotlib.lines.Line2D at 0x7f065c8d7af0>]"
            ]
          },
          "metadata": {},
          "execution_count": 37
        },
        {
          "output_type": "display_data",
          "data": {
            "text/plain": [
              "<Figure size 640x480 with 1 Axes>"
            ],
            "image/png": "[encoded data removed]"
          },
          "metadata": {}
        }
      ]
    }
  ]
}